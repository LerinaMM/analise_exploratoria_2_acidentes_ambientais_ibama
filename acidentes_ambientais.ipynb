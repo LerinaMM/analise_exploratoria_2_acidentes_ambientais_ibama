{
  "nbformat": 4,
  "nbformat_minor": 0,
  "metadata": {
    "colab": {
      "name": "acidentes_ambientais.ipynb",
      "provenance": [],
      "collapsed_sections": [],
      "authorship_tag": "ABX9TyN8udZ0MNP6pgK6MJGSu2vZ",
      "include_colab_link": true
    },
    "kernelspec": {
      "name": "python3",
      "display_name": "Python 3"
    },
    "language_info": {
      "name": "python"
    }
  },
  "cells": [
    {
      "cell_type": "markdown",
      "metadata": {
        "id": "view-in-github",
        "colab_type": "text"
      },
      "source": [
        "<a href=\"https://colab.research.google.com/github/LerinaMM/analise_exploratoria_2_acidentes_ambientais_ibama/blob/main/acidentes_ambientais.ipynb\" target=\"_parent\"><img src=\"https://colab.research.google.com/assets/colab-badge.svg\" alt=\"Open In Colab\"/></a>"
      ]
    },
    {
      "cell_type": "markdown",
      "source": [
        "# **SIEMA - COMUNICADO DE ACIDENTES AMBIENTAIS**\n",
        "\n",
        "## Este banco de dados foi retirado através do portal www.dados.gov.br do governo federal\n",
        "\n",
        "Comunicações de acidentes ambientais registradas no Sistema Nacional de Emergências Ambientais (Siema), instituído pela Instrução Normativa nº 15, de 6 de outubro de 2014.\n",
        "\n",
        "O Siema constitui ferramenta informatizada de comunicação de acidentes ambientais, visualização de mapas interativos e geração de dados estatísticos dos acidentes ambientais registrados pelo Ibama.\n",
        "\n",
        "Informações Adicionais\n",
        "Campo\tValor\n",
        "Fonte\thttp://siscom.ibama.gov.br\n",
        "Autor\tCoordenação-Geral de Emergências Ambientais (CGEMA)\n",
        "Mantenedor\tCoordenação-Geral de Emergências Ambientais (CGEMA)\n",
        "Última Atualização\t18 de Outubro de 2021, 20:37 (UTC-03:00)\n",
        "Criado\t26 de Fevereiro de 2019, 16:46 (UTC-03:00)\n",
        "Categorias no VCGE\tMeio Ambiente, Preservação e Conservação Ambiental.\n",
        "Cobertura geográfica\tTerritório nacional.\n",
        "Cobertura temporal\tInício em 26/04/200; em atividade.\n",
        "Frequência de atualização\tDiária.\n",
        "Granularidade geográfica\tPar de coordenadas geográficas de referência.\n",
        "Granularidade temporal\tData e hora da ocorrência e do registro do acidente.\n",
        "Metodologia\tFormulário próprio e de preenchimento on-line, o qual será enviado eletronicamente pelo Siema.\n",
        "\n",
        "Link do banco de dados referente a esse repositório\n",
        "\n",
        "https://dados.gov.br/dataset/comunicacao-de-acidentes-ambientais\n"
      ],
      "metadata": {
        "id": "blZ17dNzMrJD"
      }
    },
    {
      "cell_type": "markdown",
      "source": [
        "# Conteúdo dos Dados\n",
        "\n",
        "Foram destacados em negrito as siglas que tinham registros no banco de dados.\n",
        "\n",
        "- **FID** - Registra o número do acidente\n",
        "- **id_ocorrencia** - numero sequencial do registro do acidente \n",
        "- **id_municipio **- código do município\n",
        "- **id_uf** - código da unidade da federação\n",
        "- **id_responsavel** - código do responsável\n",
        "- des_complemento_tipo_localizaca\n",
        "- des_complemento_tipo_evento\n",
        "- des_complemento_instituicao_atu\n",
        "- des_complemento_tipo_dano_ident\n",
        "- des_danos\n",
        "- **des_ocorrencia** - Descrição do tipo de Ocorrência\n",
        "- dt_ocorrencia\n",
        "- hr_ocorrencia\n",
        "- **dt_registro** - Data do registro do acidente\n",
        "- des_informacoes_adicionais\n",
        "- plano_emergencia\n",
        "- plano_emergencia_acionado\n",
        "- iniciados_outras_providencias\n",
        "- des_outras_providencias\n",
        "- ocorrencia_oleo\n",
        "- dt_primeira_obs\n",
        "- hr_primeira_obs\n",
        "- informacao_geografica\n",
        "- informacao_responsavel\n",
        "- acao_inicial_tomada\n",
        "- des_causa_provavel\n",
        "- situacao_atual_descarga\n",
        "- nome_comunicante\n",
        "- telefone_contato\n",
        "- des_obs\n",
        "- email_comunicante\n",
        "- nro_ocorrencia\n",
        "- endereco_ocorrencia\n",
        "- nome_instituicao_atuando\n",
        "- telefone_instituicao_atuando\n",
        "- tipo_substancia\n",
        "- volume_estimado\n",
        "- produto_nao_se_aplica\n",
        "- produto_perigoso\n",
        "- produto_nao_especificado\n",
        "- id_bacia_sedimentar\n",
        "- cpf_contato\n",
        "- ip_contato\n",
        "- legado\n",
        "- des_instituicao_empresa\n",
        "- des_funcao_comunicante\n",
        "- validado - Resposta Sim ou não\n",
        "- tipo_comunicado\n",
        "- **periodo_ocorrencia** - Período do dia em que houve a Ocorrência - M - Manha, T Tarde e N - Noite\n",
        "- periodo_primeira_obs\n",
        "- **municipio** - Municipio em que ocorreu o acidente\n",
        "- **uf **- Estado na qual o acidente ocorreu\n",
        "- bacia_sedimentar\n",
        "- **origem - Tipo de local onde ocorreu este tipo de acidente**\n",
        "- tipo_evento\n",
        "- dt_ocorrencia_feriado\n",
        "- dia_semana\n",
        "- dia_semana_primeira_obs\n",
        "- dia_semana_registro\n",
        "- **institiuicoes_atuando_local** - Instituições que atuaram no local\n",
        "- tipos_fontes_informacoes\n",
        "- **tipos_danos_identificados **- Relata quais foram os tipos de óbitos verificados\n",
        "- produtos_onu\n",
        "- produtos_outro\n",
        "- geom\n",
        "- dt_carga\n",
        "- feicao_proxima"
      ],
      "metadata": {
        "id": "C5ITKGW3aBad"
      }
    },
    {
      "cell_type": "code",
      "execution_count": 1,
      "metadata": {
        "id": "R7cBGOiLTWrC"
      },
      "outputs": [],
      "source": [
        "import pandas as pd\n",
        "import numpy as np\n",
        "import matplotlib.pyplot as plt\n",
        "import seaborn as sns\n",
        "\n",
        "%matplotlib inline\n",
        "import warnings\n",
        "warnings.filterwarnings('ignore')\n",
        "\n",
        "sns.set(style=\"whitegrid\", font_scale=1.75)\n",
        "\n",
        "train_acidentes_df = pd.read_csv(\"train_acidentes.csv\")"
      ]
    },
    {
      "cell_type": "markdown",
      "source": [
        "> Podemos visualizar as primeiras linhas do DataFrame (DF) com o metodo head()\n"
      ],
      "metadata": {
        "id": "gx5B7f-0jd8Z"
      }
    },
    {
      "cell_type": "code",
      "source": [
        "train_acidentes_df.head(5)"
      ],
      "metadata": {
        "colab": {
          "base_uri": "https://localhost:8080/",
          "height": 548
        },
        "id": "1UDFjsKPUYdb",
        "outputId": "b76d2405-136a-4d5c-bab3-e86121c78a7b"
      },
      "execution_count": null,
      "outputs": [
        {
          "output_type": "execute_result",
          "data": {
            "text/html": [
              "\n",
              "  <div id=\"df-08f6a048-2626-4b2b-b93e-4c45a7f4ec1b\">\n",
              "    <div class=\"colab-df-container\">\n",
              "      <div>\n",
              "<style scoped>\n",
              "    .dataframe tbody tr th:only-of-type {\n",
              "        vertical-align: middle;\n",
              "    }\n",
              "\n",
              "    .dataframe tbody tr th {\n",
              "        vertical-align: top;\n",
              "    }\n",
              "\n",
              "    .dataframe thead th {\n",
              "        text-align: right;\n",
              "    }\n",
              "</style>\n",
              "<table border=\"1\" class=\"dataframe\">\n",
              "  <thead>\n",
              "    <tr style=\"text-align: right;\">\n",
              "      <th></th>\n",
              "      <th>FID</th>\n",
              "      <th>id_ocorrencia</th>\n",
              "      <th>id_municipio</th>\n",
              "      <th>id_uf</th>\n",
              "      <th>id_responsavel</th>\n",
              "      <th>des_complemento_tipo_localizaca</th>\n",
              "      <th>des_complemento_tipo_evento</th>\n",
              "      <th>des_complemento_instituicao_atu</th>\n",
              "      <th>des_complemento_tipo_dano_ident</th>\n",
              "      <th>des_danos</th>\n",
              "      <th>des_ocorrencia</th>\n",
              "      <th>dt_ocorrencia</th>\n",
              "      <th>hr_ocorrencia</th>\n",
              "      <th>dt_registro</th>\n",
              "      <th>des_informacoes_adicionais</th>\n",
              "      <th>plano_emergencia</th>\n",
              "      <th>plano_emergencia_acionado</th>\n",
              "      <th>iniciados_outras_providencias</th>\n",
              "      <th>des_outras_providencias</th>\n",
              "      <th>ocorrencia_oleo</th>\n",
              "      <th>dt_primeira_obs</th>\n",
              "      <th>hr_primeira_obs</th>\n",
              "      <th>informacao_geografica</th>\n",
              "      <th>informacao_responsavel</th>\n",
              "      <th>acao_inicial_tomada</th>\n",
              "      <th>des_causa_provavel</th>\n",
              "      <th>situacao_atual_descarga</th>\n",
              "      <th>nome_comunicante</th>\n",
              "      <th>telefone_contato</th>\n",
              "      <th>des_obs</th>\n",
              "      <th>email_comunicante</th>\n",
              "      <th>nro_ocorrencia</th>\n",
              "      <th>endereco_ocorrencia</th>\n",
              "      <th>nome_instituicao_atuando</th>\n",
              "      <th>telefone_instituicao_atuando</th>\n",
              "      <th>tipo_substancia</th>\n",
              "      <th>volume_estimado</th>\n",
              "      <th>produto_nao_se_aplica</th>\n",
              "      <th>produto_perigoso</th>\n",
              "      <th>produto_nao_especificado</th>\n",
              "      <th>id_bacia_sedimentar</th>\n",
              "      <th>cpf_contato</th>\n",
              "      <th>ip_contato</th>\n",
              "      <th>legado</th>\n",
              "      <th>des_instituicao_empresa</th>\n",
              "      <th>des_funcao_comunicante</th>\n",
              "      <th>validado</th>\n",
              "      <th>tipo_comunicado</th>\n",
              "      <th>periodo_ocorrencia</th>\n",
              "      <th>periodo_primeira_obs</th>\n",
              "      <th>municipio</th>\n",
              "      <th>uf</th>\n",
              "      <th>bacia_sedimentar</th>\n",
              "      <th>origem</th>\n",
              "      <th>tipo_evento</th>\n",
              "      <th>dt_ocorrencia_feriado</th>\n",
              "      <th>dia_semana</th>\n",
              "      <th>dia_semana_primeira_obs</th>\n",
              "      <th>dia_semana_registro</th>\n",
              "      <th>institiuicoes_atuando_local</th>\n",
              "      <th>tipos_fontes_informacoes</th>\n",
              "      <th>tipos_danos_identificados</th>\n",
              "      <th>produtos_onu</th>\n",
              "      <th>produtos_outro</th>\n",
              "      <th>geom</th>\n",
              "      <th>dt_carga</th>\n",
              "      <th>feicao_proxima</th>\n",
              "    </tr>\n",
              "  </thead>\n",
              "  <tbody>\n",
              "    <tr>\n",
              "      <th>0</th>\n",
              "      <td>adm_comunicacidente_p.355c599e-3cd8-44db-a0d4-...</td>\n",
              "      <td>312</td>\n",
              "      <td>2706901.0</td>\n",
              "      <td>2.0</td>\n",
              "      <td>NaN</td>\n",
              "      <td>NaN</td>\n",
              "      <td>NaN</td>\n",
              "      <td>NaN</td>\n",
              "      <td>NaN</td>\n",
              "      <td>NaN</td>\n",
              "      <td>Tombamento de caminhão carregado de biocombust...</td>\n",
              "      <td>NaN</td>\n",
              "      <td>NULL</td>\n",
              "      <td>2008-01-01 00:00:00</td>\n",
              "      <td>NaN</td>\n",
              "      <td>NaN</td>\n",
              "      <td>N</td>\n",
              "      <td>N</td>\n",
              "      <td>NaN</td>\n",
              "      <td>N</td>\n",
              "      <td>NaN</td>\n",
              "      <td>NaN</td>\n",
              "      <td>S</td>\n",
              "      <td>N</td>\n",
              "      <td>NaN</td>\n",
              "      <td>NaN</td>\n",
              "      <td>NaN</td>\n",
              "      <td>NaN</td>\n",
              "      <td>NaN</td>\n",
              "      <td>NaN</td>\n",
              "      <td>NaN</td>\n",
              "      <td>100</td>\n",
              "      <td>NaN</td>\n",
              "      <td>NaN</td>\n",
              "      <td>NaN</td>\n",
              "      <td>NaN</td>\n",
              "      <td>NaN</td>\n",
              "      <td>NaN</td>\n",
              "      <td>NaN</td>\n",
              "      <td>NaN</td>\n",
              "      <td>NaN</td>\n",
              "      <td>NaN</td>\n",
              "      <td>NaN</td>\n",
              "      <td>t</td>\n",
              "      <td>NaN</td>\n",
              "      <td>NaN</td>\n",
              "      <td>S</td>\n",
              "      <td>NaN</td>\n",
              "      <td>M</td>\n",
              "      <td>NaN</td>\n",
              "      <td>Pilar</td>\n",
              "      <td>AL</td>\n",
              "      <td>NaN</td>\n",
              "      <td>Rodovia</td>\n",
              "      <td>Outro(s)</td>\n",
              "      <td>NaN</td>\n",
              "      <td>NaN</td>\n",
              "      <td>NaN</td>\n",
              "      <td>NaN</td>\n",
              "      <td>Corpo de Bombeiros;Polícia Rodoviária</td>\n",
              "      <td>Mídia</td>\n",
              "      <td>Óbitos/feridos</td>\n",
              "      <td>NaN</td>\n",
              "      <td>NaN</td>\n",
              "      <td>POINT (-35.9511275 -9.6016711)</td>\n",
              "      <td>2021-12-21T20:43:57</td>\n",
              "      <td>NaN</td>\n",
              "    </tr>\n",
              "    <tr>\n",
              "      <th>1</th>\n",
              "      <td>adm_comunicacidente_p.fc456243-37df-4c85-aeb9-...</td>\n",
              "      <td>313</td>\n",
              "      <td>3205309.0</td>\n",
              "      <td>8.0</td>\n",
              "      <td>NaN</td>\n",
              "      <td>NaN</td>\n",
              "      <td>NaN</td>\n",
              "      <td>NaN</td>\n",
              "      <td>NaN</td>\n",
              "      <td>NaN</td>\n",
              "      <td>Explosão em depósito de gás.</td>\n",
              "      <td>NaN</td>\n",
              "      <td>00:00</td>\n",
              "      <td>2008-01-01 00:00:00</td>\n",
              "      <td>NaN</td>\n",
              "      <td>NaN</td>\n",
              "      <td>N</td>\n",
              "      <td>N</td>\n",
              "      <td>NaN</td>\n",
              "      <td>N</td>\n",
              "      <td>NaN</td>\n",
              "      <td>NaN</td>\n",
              "      <td>S</td>\n",
              "      <td>N</td>\n",
              "      <td>NaN</td>\n",
              "      <td>NaN</td>\n",
              "      <td>NaN</td>\n",
              "      <td>NaN</td>\n",
              "      <td>NaN</td>\n",
              "      <td>NaN</td>\n",
              "      <td>NaN</td>\n",
              "      <td>101</td>\n",
              "      <td>NaN</td>\n",
              "      <td>NaN</td>\n",
              "      <td>NaN</td>\n",
              "      <td>NaN</td>\n",
              "      <td>NaN</td>\n",
              "      <td>NaN</td>\n",
              "      <td>NaN</td>\n",
              "      <td>NaN</td>\n",
              "      <td>NaN</td>\n",
              "      <td>NaN</td>\n",
              "      <td>NaN</td>\n",
              "      <td>t</td>\n",
              "      <td>NaN</td>\n",
              "      <td>NaN</td>\n",
              "      <td>S</td>\n",
              "      <td>NaN</td>\n",
              "      <td>M</td>\n",
              "      <td>NaN</td>\n",
              "      <td>Vitória</td>\n",
              "      <td>ES</td>\n",
              "      <td>NaN</td>\n",
              "      <td>Armazenamento/depósito</td>\n",
              "      <td>Outro(s)</td>\n",
              "      <td>NaN</td>\n",
              "      <td>NaN</td>\n",
              "      <td>NaN</td>\n",
              "      <td>NaN</td>\n",
              "      <td>Corpo de Bombeiros</td>\n",
              "      <td>Mídia</td>\n",
              "      <td>Outro(s)</td>\n",
              "      <td>NaN</td>\n",
              "      <td>NaN</td>\n",
              "      <td>POINT (-40.3016327 -20.2996826)</td>\n",
              "      <td>2021-12-21T20:43:57</td>\n",
              "      <td>NaN</td>\n",
              "    </tr>\n",
              "    <tr>\n",
              "      <th>2</th>\n",
              "      <td>adm_comunicacidente_p.a850a9d0-55fa-4773-877c-...</td>\n",
              "      <td>314</td>\n",
              "      <td>5003702.0</td>\n",
              "      <td>12.0</td>\n",
              "      <td>NaN</td>\n",
              "      <td>NaN</td>\n",
              "      <td>NaN</td>\n",
              "      <td>NaN</td>\n",
              "      <td>NaN</td>\n",
              "      <td>NaN</td>\n",
              "      <td>Vazamento de esgoto em grande quantidade causa...</td>\n",
              "      <td>NaN</td>\n",
              "      <td>NULL</td>\n",
              "      <td>2009-01-01 00:00:00</td>\n",
              "      <td>NaN</td>\n",
              "      <td>NaN</td>\n",
              "      <td>N</td>\n",
              "      <td>N</td>\n",
              "      <td>NaN</td>\n",
              "      <td>N</td>\n",
              "      <td>NaN</td>\n",
              "      <td>NaN</td>\n",
              "      <td>S</td>\n",
              "      <td>N</td>\n",
              "      <td>NaN</td>\n",
              "      <td>NaN</td>\n",
              "      <td>NaN</td>\n",
              "      <td>NaN</td>\n",
              "      <td>NaN</td>\n",
              "      <td>NaN</td>\n",
              "      <td>NaN</td>\n",
              "      <td>102</td>\n",
              "      <td>NaN</td>\n",
              "      <td>NaN</td>\n",
              "      <td>NaN</td>\n",
              "      <td>NaN</td>\n",
              "      <td>NaN</td>\n",
              "      <td>NaN</td>\n",
              "      <td>NaN</td>\n",
              "      <td>NaN</td>\n",
              "      <td>NaN</td>\n",
              "      <td>NaN</td>\n",
              "      <td>NaN</td>\n",
              "      <td>t</td>\n",
              "      <td>NaN</td>\n",
              "      <td>NaN</td>\n",
              "      <td>S</td>\n",
              "      <td>NaN</td>\n",
              "      <td>M</td>\n",
              "      <td>NaN</td>\n",
              "      <td>Dourados</td>\n",
              "      <td>MS</td>\n",
              "      <td>NaN</td>\n",
              "      <td>Outro(s)</td>\n",
              "      <td>Outro(s)</td>\n",
              "      <td>NaN</td>\n",
              "      <td>NaN</td>\n",
              "      <td>NaN</td>\n",
              "      <td>NaN</td>\n",
              "      <td>Outra(s)</td>\n",
              "      <td>Mídia</td>\n",
              "      <td>Fauna;Flora;População afetada/evacuada;Rio/cór...</td>\n",
              "      <td>NaN</td>\n",
              "      <td>NaN</td>\n",
              "      <td>POINT (-54.812208 -22.2206145)</td>\n",
              "      <td>2021-12-21T20:43:57</td>\n",
              "      <td>NaN</td>\n",
              "    </tr>\n",
              "    <tr>\n",
              "      <th>3</th>\n",
              "      <td>adm_comunicacidente_p.cc7f5439-99f4-4129-bf81-...</td>\n",
              "      <td>315</td>\n",
              "      <td>NaN</td>\n",
              "      <td>7.0</td>\n",
              "      <td>NaN</td>\n",
              "      <td>NaN</td>\n",
              "      <td>NaN</td>\n",
              "      <td>NaN</td>\n",
              "      <td>NaN</td>\n",
              "      <td>NaN</td>\n",
              "      <td>Tombamento de caminhão carregado de combustíve...</td>\n",
              "      <td>NaN</td>\n",
              "      <td>NULL</td>\n",
              "      <td>2009-01-01 00:00:00</td>\n",
              "      <td>NaN</td>\n",
              "      <td>NaN</td>\n",
              "      <td>N</td>\n",
              "      <td>N</td>\n",
              "      <td>NaN</td>\n",
              "      <td>N</td>\n",
              "      <td>NaN</td>\n",
              "      <td>NaN</td>\n",
              "      <td>S</td>\n",
              "      <td>N</td>\n",
              "      <td>NaN</td>\n",
              "      <td>NaN</td>\n",
              "      <td>NaN</td>\n",
              "      <td>NaN</td>\n",
              "      <td>NaN</td>\n",
              "      <td>NaN</td>\n",
              "      <td>NaN</td>\n",
              "      <td>103</td>\n",
              "      <td>NaN</td>\n",
              "      <td>NaN</td>\n",
              "      <td>NaN</td>\n",
              "      <td>NaN</td>\n",
              "      <td>NaN</td>\n",
              "      <td>NaN</td>\n",
              "      <td>NaN</td>\n",
              "      <td>NaN</td>\n",
              "      <td>NaN</td>\n",
              "      <td>NaN</td>\n",
              "      <td>NaN</td>\n",
              "      <td>t</td>\n",
              "      <td>NaN</td>\n",
              "      <td>NaN</td>\n",
              "      <td>S</td>\n",
              "      <td>NaN</td>\n",
              "      <td>M</td>\n",
              "      <td>NaN</td>\n",
              "      <td>NaN</td>\n",
              "      <td>DF</td>\n",
              "      <td>NaN</td>\n",
              "      <td>Rodovia</td>\n",
              "      <td>Outro(s)</td>\n",
              "      <td>NaN</td>\n",
              "      <td>NaN</td>\n",
              "      <td>NaN</td>\n",
              "      <td>NaN</td>\n",
              "      <td>Corpo de Bombeiros;Defesa Civil</td>\n",
              "      <td>Mídia</td>\n",
              "      <td>Solo</td>\n",
              "      <td>NaN</td>\n",
              "      <td>NaN</td>\n",
              "      <td>POINT (-47.9768478 -15.82326)</td>\n",
              "      <td>2021-12-21T20:43:57</td>\n",
              "      <td>NaN</td>\n",
              "    </tr>\n",
              "    <tr>\n",
              "      <th>4</th>\n",
              "      <td>adm_comunicacidente_p.019828c3-b4b0-4b47-a1e3-...</td>\n",
              "      <td>316</td>\n",
              "      <td>4312054.0</td>\n",
              "      <td>21.0</td>\n",
              "      <td>NaN</td>\n",
              "      <td>NaN</td>\n",
              "      <td>NaN</td>\n",
              "      <td>NaN</td>\n",
              "      <td>NaN</td>\n",
              "      <td>NaN</td>\n",
              "      <td>300 Kg de produtos poluidores encontrados ás m...</td>\n",
              "      <td>NaN</td>\n",
              "      <td>NULL</td>\n",
              "      <td>2009-01-01 00:00:00</td>\n",
              "      <td>NaN</td>\n",
              "      <td>NaN</td>\n",
              "      <td>N</td>\n",
              "      <td>N</td>\n",
              "      <td>NaN</td>\n",
              "      <td>N</td>\n",
              "      <td>NaN</td>\n",
              "      <td>NaN</td>\n",
              "      <td>S</td>\n",
              "      <td>N</td>\n",
              "      <td>NaN</td>\n",
              "      <td>NaN</td>\n",
              "      <td>NaN</td>\n",
              "      <td>NaN</td>\n",
              "      <td>NaN</td>\n",
              "      <td>NaN</td>\n",
              "      <td>NaN</td>\n",
              "      <td>104</td>\n",
              "      <td>NaN</td>\n",
              "      <td>NaN</td>\n",
              "      <td>NaN</td>\n",
              "      <td>NaN</td>\n",
              "      <td>NaN</td>\n",
              "      <td>NaN</td>\n",
              "      <td>NaN</td>\n",
              "      <td>NaN</td>\n",
              "      <td>NaN</td>\n",
              "      <td>NaN</td>\n",
              "      <td>NaN</td>\n",
              "      <td>t</td>\n",
              "      <td>NaN</td>\n",
              "      <td>NaN</td>\n",
              "      <td>S</td>\n",
              "      <td>NaN</td>\n",
              "      <td>M</td>\n",
              "      <td>NaN</td>\n",
              "      <td>Marques de Souza</td>\n",
              "      <td>RS</td>\n",
              "      <td>NaN</td>\n",
              "      <td>Outro(s)</td>\n",
              "      <td>Outro(s)</td>\n",
              "      <td>NaN</td>\n",
              "      <td>NaN</td>\n",
              "      <td>NaN</td>\n",
              "      <td>NaN</td>\n",
              "      <td>Outra(s)</td>\n",
              "      <td>Mídia</td>\n",
              "      <td>Rio/córrego;Solo</td>\n",
              "      <td>NaN</td>\n",
              "      <td>NaN</td>\n",
              "      <td>POINT (-52.097268 -29.331113)</td>\n",
              "      <td>2021-12-21T20:43:57</td>\n",
              "      <td>NaN</td>\n",
              "    </tr>\n",
              "  </tbody>\n",
              "</table>\n",
              "</div>\n",
              "      <button class=\"colab-df-convert\" onclick=\"convertToInteractive('df-08f6a048-2626-4b2b-b93e-4c45a7f4ec1b')\"\n",
              "              title=\"Convert this dataframe to an interactive table.\"\n",
              "              style=\"display:none;\">\n",
              "        \n",
              "  <svg xmlns=\"http://www.w3.org/2000/svg\" height=\"24px\"viewBox=\"0 0 24 24\"\n",
              "       width=\"24px\">\n",
              "    <path d=\"M0 0h24v24H0V0z\" fill=\"none\"/>\n",
              "    <path d=\"M18.56 5.44l.94 2.06.94-2.06 2.06-.94-2.06-.94-.94-2.06-.94 2.06-2.06.94zm-11 1L8.5 8.5l.94-2.06 2.06-.94-2.06-.94L8.5 2.5l-.94 2.06-2.06.94zm10 10l.94 2.06.94-2.06 2.06-.94-2.06-.94-.94-2.06-.94 2.06-2.06.94z\"/><path d=\"M17.41 7.96l-1.37-1.37c-.4-.4-.92-.59-1.43-.59-.52 0-1.04.2-1.43.59L10.3 9.45l-7.72 7.72c-.78.78-.78 2.05 0 2.83L4 21.41c.39.39.9.59 1.41.59.51 0 1.02-.2 1.41-.59l7.78-7.78 2.81-2.81c.8-.78.8-2.07 0-2.86zM5.41 20L4 18.59l7.72-7.72 1.47 1.35L5.41 20z\"/>\n",
              "  </svg>\n",
              "      </button>\n",
              "      \n",
              "  <style>\n",
              "    .colab-df-container {\n",
              "      display:flex;\n",
              "      flex-wrap:wrap;\n",
              "      gap: 12px;\n",
              "    }\n",
              "\n",
              "    .colab-df-convert {\n",
              "      background-color: #E8F0FE;\n",
              "      border: none;\n",
              "      border-radius: 50%;\n",
              "      cursor: pointer;\n",
              "      display: none;\n",
              "      fill: #1967D2;\n",
              "      height: 32px;\n",
              "      padding: 0 0 0 0;\n",
              "      width: 32px;\n",
              "    }\n",
              "\n",
              "    .colab-df-convert:hover {\n",
              "      background-color: #E2EBFA;\n",
              "      box-shadow: 0px 1px 2px rgba(60, 64, 67, 0.3), 0px 1px 3px 1px rgba(60, 64, 67, 0.15);\n",
              "      fill: #174EA6;\n",
              "    }\n",
              "\n",
              "    [theme=dark] .colab-df-convert {\n",
              "      background-color: #3B4455;\n",
              "      fill: #D2E3FC;\n",
              "    }\n",
              "\n",
              "    [theme=dark] .colab-df-convert:hover {\n",
              "      background-color: #434B5C;\n",
              "      box-shadow: 0px 1px 3px 1px rgba(0, 0, 0, 0.15);\n",
              "      filter: drop-shadow(0px 1px 2px rgba(0, 0, 0, 0.3));\n",
              "      fill: #FFFFFF;\n",
              "    }\n",
              "  </style>\n",
              "\n",
              "      <script>\n",
              "        const buttonEl =\n",
              "          document.querySelector('#df-08f6a048-2626-4b2b-b93e-4c45a7f4ec1b button.colab-df-convert');\n",
              "        buttonEl.style.display =\n",
              "          google.colab.kernel.accessAllowed ? 'block' : 'none';\n",
              "\n",
              "        async function convertToInteractive(key) {\n",
              "          const element = document.querySelector('#df-08f6a048-2626-4b2b-b93e-4c45a7f4ec1b');\n",
              "          const dataTable =\n",
              "            await google.colab.kernel.invokeFunction('convertToInteractive',\n",
              "                                                     [key], {});\n",
              "          if (!dataTable) return;\n",
              "\n",
              "          const docLinkHtml = 'Like what you see? Visit the ' +\n",
              "            '<a target=\"_blank\" href=https://colab.research.google.com/notebooks/data_table.ipynb>data table notebook</a>'\n",
              "            + ' to learn more about interactive tables.';\n",
              "          element.innerHTML = '';\n",
              "          dataTable['output_type'] = 'display_data';\n",
              "          await google.colab.output.renderOutput(dataTable, element);\n",
              "          const docLink = document.createElement('div');\n",
              "          docLink.innerHTML = docLinkHtml;\n",
              "          element.appendChild(docLink);\n",
              "        }\n",
              "      </script>\n",
              "    </div>\n",
              "  </div>\n",
              "  "
            ],
            "text/plain": [
              "                                                 FID  ...  feicao_proxima\n",
              "0  adm_comunicacidente_p.355c599e-3cd8-44db-a0d4-...  ...             NaN\n",
              "1  adm_comunicacidente_p.fc456243-37df-4c85-aeb9-...  ...             NaN\n",
              "2  adm_comunicacidente_p.a850a9d0-55fa-4773-877c-...  ...             NaN\n",
              "3  adm_comunicacidente_p.cc7f5439-99f4-4129-bf81-...  ...             NaN\n",
              "4  adm_comunicacidente_p.019828c3-b4b0-4b47-a1e3-...  ...             NaN\n",
              "\n",
              "[5 rows x 67 columns]"
            ]
          },
          "metadata": {},
          "execution_count": 3
        }
      ]
    },
    {
      "cell_type": "code",
      "source": [
        "#Trará os dados com uma apresentação diferente\n",
        "#Dtype na terceira coluna informa qual é o tipo de dado\n",
        "\n",
        "train_acidentes_df.info()"
      ],
      "metadata": {
        "colab": {
          "base_uri": "https://localhost:8080/"
        },
        "id": "1o3aWmC4U7Ao",
        "outputId": "2fb35047-2327-4193-d129-c528d821891e"
      },
      "execution_count": null,
      "outputs": [
        {
          "output_type": "stream",
          "name": "stdout",
          "text": [
            "<class 'pandas.core.frame.DataFrame'>\n",
            "RangeIndex: 12217 entries, 0 to 12216\n",
            "Data columns (total 67 columns):\n",
            " #   Column                           Non-Null Count  Dtype  \n",
            "---  ------                           --------------  -----  \n",
            " 0   FID                              12217 non-null  object \n",
            " 1   id_ocorrencia                    12217 non-null  int64  \n",
            " 2   id_municipio                     10017 non-null  float64\n",
            " 3   id_uf                            11674 non-null  float64\n",
            " 4   id_responsavel                   5626 non-null   float64\n",
            " 5   des_complemento_tipo_localizaca  3304 non-null   object \n",
            " 6   des_complemento_tipo_evento      3098 non-null   object \n",
            " 7   des_complemento_instituicao_atu  4139 non-null   object \n",
            " 8   des_complemento_tipo_dano_ident  2909 non-null   object \n",
            " 9   des_danos                        0 non-null      float64\n",
            " 10  des_ocorrencia                   5775 non-null   object \n",
            " 11  dt_ocorrencia                    6151 non-null   object \n",
            " 12  hr_ocorrencia                    11703 non-null  object \n",
            " 13  dt_registro                      12217 non-null  object \n",
            " 14  des_informacoes_adicionais       0 non-null      float64\n",
            " 15  plano_emergencia                 5734 non-null   object \n",
            " 16  plano_emergencia_acionado        12217 non-null  object \n",
            " 17  iniciados_outras_providencias    12217 non-null  object \n",
            " 18  des_outras_providencias          4465 non-null   object \n",
            " 19  ocorrencia_oleo                  12217 non-null  object \n",
            " 20  dt_primeira_obs                  6243 non-null   object \n",
            " 21  hr_primeira_obs                  6172 non-null   object \n",
            " 22  informacao_geografica            6861 non-null   object \n",
            " 23  informacao_responsavel           12217 non-null  object \n",
            " 24  acao_inicial_tomada              0 non-null      float64\n",
            " 25  des_causa_provavel               5967 non-null   object \n",
            " 26  situacao_atual_descarga          2255 non-null   object \n",
            " 27  nome_comunicante                 6436 non-null   object \n",
            " 28  telefone_contato                 6442 non-null   object \n",
            " 29  des_obs                          5116 non-null   object \n",
            " 30  email_comunicante                6248 non-null   object \n",
            " 31  nro_ocorrencia                   12217 non-null  int64  \n",
            " 32  endereco_ocorrencia              6002 non-null   object \n",
            " 33  nome_instituicao_atuando         1243 non-null   object \n",
            " 34  telefone_instituicao_atuando     1156 non-null   object \n",
            " 35  tipo_substancia                  1530 non-null   object \n",
            " 36  volume_estimado                  1429 non-null   float64\n",
            " 37  produto_nao_se_aplica            1352 non-null   object \n",
            " 38  produto_perigoso                 1957 non-null   object \n",
            " 39  produto_nao_especificado         1151 non-null   object \n",
            " 40  id_bacia_sedimentar              1863 non-null   float64\n",
            " 41  cpf_contato                      6419 non-null   object \n",
            " 42  ip_contato                       1063 non-null   object \n",
            " 43  legado                           12217 non-null  object \n",
            " 44  des_instituicao_empresa          6053 non-null   object \n",
            " 45  des_funcao_comunicante           5959 non-null   object \n",
            " 46  validado                         12217 non-null  object \n",
            " 47  tipo_comunicado                  5356 non-null   object \n",
            " 48  periodo_ocorrencia               11612 non-null  object \n",
            " 49  periodo_primeira_obs             6046 non-null   object \n",
            " 50  municipio                        9818 non-null   object \n",
            " 51  uf                               11640 non-null  object \n",
            " 52  bacia_sedimentar                 1863 non-null   object \n",
            " 53  origem                           12100 non-null  object \n",
            " 54  tipo_evento                      12093 non-null  object \n",
            " 55  dt_ocorrencia_feriado            6421 non-null   object \n",
            " 56  dia_semana                       0 non-null      float64\n",
            " 57  dia_semana_primeira_obs          0 non-null      float64\n",
            " 58  dia_semana_registro              0 non-null      float64\n",
            " 59  institiuicoes_atuando_local      10742 non-null  object \n",
            " 60  tipos_fontes_informacoes         11964 non-null  object \n",
            " 61  tipos_danos_identificados        11336 non-null  object \n",
            " 62  produtos_onu                     2601 non-null   object \n",
            " 63  produtos_outro                   2834 non-null   object \n",
            " 64  geom                             12217 non-null  object \n",
            " 65  dt_carga                         12217 non-null  object \n",
            " 66  feicao_proxima                   0 non-null      float64\n",
            "dtypes: float64(12), int64(2), object(53)\n",
            "memory usage: 6.2+ MB\n"
          ]
        }
      ]
    },
    {
      "cell_type": "markdown",
      "source": [
        "> **Faremos uma operação para trazer o nome das colunas na ordem que estão dispostas no banco de Dados**"
      ],
      "metadata": {
        "id": "SrlrvIYwloVj"
      }
    },
    {
      "cell_type": "code",
      "source": [
        "train_acidentes_df.columns"
      ],
      "metadata": {
        "colab": {
          "base_uri": "https://localhost:8080/"
        },
        "id": "lowG0D_hW8lK",
        "outputId": "23236aef-3bbd-402d-e540-61f096219dbf"
      },
      "execution_count": null,
      "outputs": [
        {
          "output_type": "execute_result",
          "data": {
            "text/plain": [
              "Index(['FID', 'id_ocorrencia', 'id_municipio', 'id_uf', 'id_responsavel',\n",
              "       'des_complemento_tipo_localizaca', 'des_complemento_tipo_evento',\n",
              "       'des_complemento_instituicao_atu', 'des_complemento_tipo_dano_ident',\n",
              "       'des_danos', 'des_ocorrencia', 'dt_ocorrencia', 'hr_ocorrencia',\n",
              "       'dt_registro', 'des_informacoes_adicionais', 'plano_emergencia',\n",
              "       'plano_emergencia_acionado', 'iniciados_outras_providencias',\n",
              "       'des_outras_providencias', 'ocorrencia_oleo', 'dt_primeira_obs',\n",
              "       'hr_primeira_obs', 'informacao_geografica', 'informacao_responsavel',\n",
              "       'acao_inicial_tomada', 'des_causa_provavel', 'situacao_atual_descarga',\n",
              "       'nome_comunicante', 'telefone_contato', 'des_obs', 'email_comunicante',\n",
              "       'nro_ocorrencia', 'endereco_ocorrencia', 'nome_instituicao_atuando',\n",
              "       'telefone_instituicao_atuando', 'tipo_substancia', 'volume_estimado',\n",
              "       'produto_nao_se_aplica', 'produto_perigoso', 'produto_nao_especificado',\n",
              "       'id_bacia_sedimentar', 'cpf_contato', 'ip_contato', 'legado',\n",
              "       'des_instituicao_empresa', 'des_funcao_comunicante', 'validado',\n",
              "       'tipo_comunicado', 'periodo_ocorrencia', 'periodo_primeira_obs',\n",
              "       'municipio', 'uf', 'bacia_sedimentar', 'origem', 'tipo_evento',\n",
              "       'dt_ocorrencia_feriado', 'dia_semana', 'dia_semana_primeira_obs',\n",
              "       'dia_semana_registro', 'institiuicoes_atuando_local',\n",
              "       'tipos_fontes_informacoes', 'tipos_danos_identificados', 'produtos_onu',\n",
              "       'produtos_outro', 'geom', 'dt_carga', 'feicao_proxima'],\n",
              "      dtype='object')"
            ]
          },
          "metadata": {},
          "execution_count": 21
        }
      ]
    },
    {
      "cell_type": "markdown",
      "source": [
        "> **O método shape mostra o tamanho dos nossos dados (dimensões dos eixos)**"
      ],
      "metadata": {
        "id": "lnD1c35ll3F3"
      }
    },
    {
      "cell_type": "code",
      "source": [
        "train_acidentes_df.shape"
      ],
      "metadata": {
        "colab": {
          "base_uri": "https://localhost:8080/"
        },
        "id": "tKv6OBxwXOch",
        "outputId": "43fc9c86-e64e-4716-89b0-2bd8463f0264"
      },
      "execution_count": null,
      "outputs": [
        {
          "output_type": "execute_result",
          "data": {
            "text/plain": [
              "(12217, 67)"
            ]
          },
          "metadata": {},
          "execution_count": 22
        }
      ]
    },
    {
      "cell_type": "markdown",
      "source": [
        "Temos 12217 linhas preenchidas e 67 colunas"
      ],
      "metadata": {
        "id": "ijskuO-RmHZd"
      }
    },
    {
      "cell_type": "markdown",
      "source": [
        "> **Faremos uma verificação se temos dados duplicados em nosso banco de dados**"
      ],
      "metadata": {
        "id": "lqqge8NmmAyf"
      }
    },
    {
      "cell_type": "code",
      "source": [
        "train_df.duplicated().sum()"
      ],
      "metadata": {
        "colab": {
          "base_uri": "https://localhost:8080/"
        },
        "id": "BRgEKl-LXl0Q",
        "outputId": "cca6e957-b4b1-48af-821b-f5eb25432f74"
      },
      "execution_count": null,
      "outputs": [
        {
          "output_type": "execute_result",
          "data": {
            "text/plain": [
              "0"
            ]
          },
          "metadata": {},
          "execution_count": 24
        }
      ]
    },
    {
      "cell_type": "markdown",
      "source": [
        "Nessa operação mostra que não temos dados duplicados em nosso banco de dados"
      ],
      "metadata": {
        "id": "K-3p6crfmSyg"
      }
    },
    {
      "cell_type": "markdown",
      "source": [
        ">** Mostraremos as Estatísticas resumidas do nosso banco de dados de acidentes ambientais**"
      ],
      "metadata": {
        "id": "pi0pGPdQmZbA"
      }
    },
    {
      "cell_type": "code",
      "source": [
        "train_acidentes_df.describe()"
      ],
      "metadata": {
        "colab": {
          "base_uri": "https://localhost:8080/",
          "height": 364
        },
        "id": "LBKMR-gQaADq",
        "outputId": "5b9a10d8-d08c-415f-c73c-0abda950ca44"
      },
      "execution_count": null,
      "outputs": [
        {
          "output_type": "execute_result",
          "data": {
            "text/html": [
              "\n",
              "  <div id=\"df-c4c93801-430f-4eee-9ac1-ddf117e1b562\">\n",
              "    <div class=\"colab-df-container\">\n",
              "      <div>\n",
              "<style scoped>\n",
              "    .dataframe tbody tr th:only-of-type {\n",
              "        vertical-align: middle;\n",
              "    }\n",
              "\n",
              "    .dataframe tbody tr th {\n",
              "        vertical-align: top;\n",
              "    }\n",
              "\n",
              "    .dataframe thead th {\n",
              "        text-align: right;\n",
              "    }\n",
              "</style>\n",
              "<table border=\"1\" class=\"dataframe\">\n",
              "  <thead>\n",
              "    <tr style=\"text-align: right;\">\n",
              "      <th></th>\n",
              "      <th>id_ocorrencia</th>\n",
              "      <th>id_municipio</th>\n",
              "      <th>id_uf</th>\n",
              "      <th>id_responsavel</th>\n",
              "      <th>des_danos</th>\n",
              "      <th>des_informacoes_adicionais</th>\n",
              "      <th>acao_inicial_tomada</th>\n",
              "      <th>nro_ocorrencia</th>\n",
              "      <th>volume_estimado</th>\n",
              "      <th>id_bacia_sedimentar</th>\n",
              "      <th>dia_semana</th>\n",
              "      <th>dia_semana_primeira_obs</th>\n",
              "      <th>dia_semana_registro</th>\n",
              "      <th>feicao_proxima</th>\n",
              "    </tr>\n",
              "  </thead>\n",
              "  <tbody>\n",
              "    <tr>\n",
              "      <th>count</th>\n",
              "      <td>12217.000000</td>\n",
              "      <td>1.001700e+04</td>\n",
              "      <td>11674.000000</td>\n",
              "      <td>5626.000000</td>\n",
              "      <td>0.0</td>\n",
              "      <td>0.0</td>\n",
              "      <td>0.0</td>\n",
              "      <td>1.221700e+04</td>\n",
              "      <td>1.429000e+03</td>\n",
              "      <td>1863.000000</td>\n",
              "      <td>0.0</td>\n",
              "      <td>0.0</td>\n",
              "      <td>0.0</td>\n",
              "      <td>0.0</td>\n",
              "    </tr>\n",
              "    <tr>\n",
              "      <th>mean</th>\n",
              "      <td>7400.386265</td>\n",
              "      <td>3.330574e+06</td>\n",
              "      <td>16.596025</td>\n",
              "      <td>6702.268397</td>\n",
              "      <td>NaN</td>\n",
              "      <td>NaN</td>\n",
              "      <td>NaN</td>\n",
              "      <td>2.667367e+11</td>\n",
              "      <td>2.801371e+04</td>\n",
              "      <td>14.978529</td>\n",
              "      <td>NaN</td>\n",
              "      <td>NaN</td>\n",
              "      <td>NaN</td>\n",
              "      <td>NaN</td>\n",
              "    </tr>\n",
              "    <tr>\n",
              "      <th>std</th>\n",
              "      <td>4130.081588</td>\n",
              "      <td>8.579101e+05</td>\n",
              "      <td>6.424601</td>\n",
              "      <td>1899.424635</td>\n",
              "      <td>NaN</td>\n",
              "      <td>NaN</td>\n",
              "      <td>NaN</td>\n",
              "      <td>5.894845e+11</td>\n",
              "      <td>1.058141e+06</td>\n",
              "      <td>1.874291</td>\n",
              "      <td>NaN</td>\n",
              "      <td>NaN</td>\n",
              "      <td>NaN</td>\n",
              "      <td>NaN</td>\n",
              "    </tr>\n",
              "    <tr>\n",
              "      <th>min</th>\n",
              "      <td>312.000000</td>\n",
              "      <td>0.000000e+00</td>\n",
              "      <td>0.000000</td>\n",
              "      <td>3270.000000</td>\n",
              "      <td>NaN</td>\n",
              "      <td>NaN</td>\n",
              "      <td>NaN</td>\n",
              "      <td>1.000000e+02</td>\n",
              "      <td>0.000000e+00</td>\n",
              "      <td>4.000000</td>\n",
              "      <td>NaN</td>\n",
              "      <td>NaN</td>\n",
              "      <td>NaN</td>\n",
              "      <td>NaN</td>\n",
              "    </tr>\n",
              "    <tr>\n",
              "      <th>25%</th>\n",
              "      <td>3862.000000</td>\n",
              "      <td>3.113909e+06</td>\n",
              "      <td>13.000000</td>\n",
              "      <td>5183.500000</td>\n",
              "      <td>NaN</td>\n",
              "      <td>NaN</td>\n",
              "      <td>NaN</td>\n",
              "      <td>1.410000e+03</td>\n",
              "      <td>5.000000e-04</td>\n",
              "      <td>15.000000</td>\n",
              "      <td>NaN</td>\n",
              "      <td>NaN</td>\n",
              "      <td>NaN</td>\n",
              "      <td>NaN</td>\n",
              "    </tr>\n",
              "    <tr>\n",
              "      <th>50%</th>\n",
              "      <td>7337.000000</td>\n",
              "      <td>3.300100e+06</td>\n",
              "      <td>16.000000</td>\n",
              "      <td>6791.500000</td>\n",
              "      <td>NaN</td>\n",
              "      <td>NaN</td>\n",
              "      <td>NaN</td>\n",
              "      <td>2.017543e+10</td>\n",
              "      <td>8.000000e-03</td>\n",
              "      <td>15.000000</td>\n",
              "      <td>NaN</td>\n",
              "      <td>NaN</td>\n",
              "      <td>NaN</td>\n",
              "      <td>NaN</td>\n",
              "    </tr>\n",
              "    <tr>\n",
              "      <th>75%</th>\n",
              "      <td>11068.000000</td>\n",
              "      <td>3.550308e+06</td>\n",
              "      <td>24.000000</td>\n",
              "      <td>8291.750000</td>\n",
              "      <td>NaN</td>\n",
              "      <td>NaN</td>\n",
              "      <td>NaN</td>\n",
              "      <td>2.019131e+11</td>\n",
              "      <td>1.140000e-01</td>\n",
              "      <td>16.000000</td>\n",
              "      <td>NaN</td>\n",
              "      <td>NaN</td>\n",
              "      <td>NaN</td>\n",
              "      <td>NaN</td>\n",
              "    </tr>\n",
              "    <tr>\n",
              "      <th>max</th>\n",
              "      <td>14414.000000</td>\n",
              "      <td>5.300108e+06</td>\n",
              "      <td>27.000000</td>\n",
              "      <td>9905.000000</td>\n",
              "      <td>NaN</td>\n",
              "      <td>NaN</td>\n",
              "      <td>NaN</td>\n",
              "      <td>2.021122e+12</td>\n",
              "      <td>4.000000e+07</td>\n",
              "      <td>17.000000</td>\n",
              "      <td>NaN</td>\n",
              "      <td>NaN</td>\n",
              "      <td>NaN</td>\n",
              "      <td>NaN</td>\n",
              "    </tr>\n",
              "  </tbody>\n",
              "</table>\n",
              "</div>\n",
              "      <button class=\"colab-df-convert\" onclick=\"convertToInteractive('df-c4c93801-430f-4eee-9ac1-ddf117e1b562')\"\n",
              "              title=\"Convert this dataframe to an interactive table.\"\n",
              "              style=\"display:none;\">\n",
              "        \n",
              "  <svg xmlns=\"http://www.w3.org/2000/svg\" height=\"24px\"viewBox=\"0 0 24 24\"\n",
              "       width=\"24px\">\n",
              "    <path d=\"M0 0h24v24H0V0z\" fill=\"none\"/>\n",
              "    <path d=\"M18.56 5.44l.94 2.06.94-2.06 2.06-.94-2.06-.94-.94-2.06-.94 2.06-2.06.94zm-11 1L8.5 8.5l.94-2.06 2.06-.94-2.06-.94L8.5 2.5l-.94 2.06-2.06.94zm10 10l.94 2.06.94-2.06 2.06-.94-2.06-.94-.94-2.06-.94 2.06-2.06.94z\"/><path d=\"M17.41 7.96l-1.37-1.37c-.4-.4-.92-.59-1.43-.59-.52 0-1.04.2-1.43.59L10.3 9.45l-7.72 7.72c-.78.78-.78 2.05 0 2.83L4 21.41c.39.39.9.59 1.41.59.51 0 1.02-.2 1.41-.59l7.78-7.78 2.81-2.81c.8-.78.8-2.07 0-2.86zM5.41 20L4 18.59l7.72-7.72 1.47 1.35L5.41 20z\"/>\n",
              "  </svg>\n",
              "      </button>\n",
              "      \n",
              "  <style>\n",
              "    .colab-df-container {\n",
              "      display:flex;\n",
              "      flex-wrap:wrap;\n",
              "      gap: 12px;\n",
              "    }\n",
              "\n",
              "    .colab-df-convert {\n",
              "      background-color: #E8F0FE;\n",
              "      border: none;\n",
              "      border-radius: 50%;\n",
              "      cursor: pointer;\n",
              "      display: none;\n",
              "      fill: #1967D2;\n",
              "      height: 32px;\n",
              "      padding: 0 0 0 0;\n",
              "      width: 32px;\n",
              "    }\n",
              "\n",
              "    .colab-df-convert:hover {\n",
              "      background-color: #E2EBFA;\n",
              "      box-shadow: 0px 1px 2px rgba(60, 64, 67, 0.3), 0px 1px 3px 1px rgba(60, 64, 67, 0.15);\n",
              "      fill: #174EA6;\n",
              "    }\n",
              "\n",
              "    [theme=dark] .colab-df-convert {\n",
              "      background-color: #3B4455;\n",
              "      fill: #D2E3FC;\n",
              "    }\n",
              "\n",
              "    [theme=dark] .colab-df-convert:hover {\n",
              "      background-color: #434B5C;\n",
              "      box-shadow: 0px 1px 3px 1px rgba(0, 0, 0, 0.15);\n",
              "      filter: drop-shadow(0px 1px 2px rgba(0, 0, 0, 0.3));\n",
              "      fill: #FFFFFF;\n",
              "    }\n",
              "  </style>\n",
              "\n",
              "      <script>\n",
              "        const buttonEl =\n",
              "          document.querySelector('#df-c4c93801-430f-4eee-9ac1-ddf117e1b562 button.colab-df-convert');\n",
              "        buttonEl.style.display =\n",
              "          google.colab.kernel.accessAllowed ? 'block' : 'none';\n",
              "\n",
              "        async function convertToInteractive(key) {\n",
              "          const element = document.querySelector('#df-c4c93801-430f-4eee-9ac1-ddf117e1b562');\n",
              "          const dataTable =\n",
              "            await google.colab.kernel.invokeFunction('convertToInteractive',\n",
              "                                                     [key], {});\n",
              "          if (!dataTable) return;\n",
              "\n",
              "          const docLinkHtml = 'Like what you see? Visit the ' +\n",
              "            '<a target=\"_blank\" href=https://colab.research.google.com/notebooks/data_table.ipynb>data table notebook</a>'\n",
              "            + ' to learn more about interactive tables.';\n",
              "          element.innerHTML = '';\n",
              "          dataTable['output_type'] = 'display_data';\n",
              "          await google.colab.output.renderOutput(dataTable, element);\n",
              "          const docLink = document.createElement('div');\n",
              "          docLink.innerHTML = docLinkHtml;\n",
              "          element.appendChild(docLink);\n",
              "        }\n",
              "      </script>\n",
              "    </div>\n",
              "  </div>\n",
              "  "
            ],
            "text/plain": [
              "       id_ocorrencia  id_municipio  ...  dia_semana_registro  feicao_proxima\n",
              "count   12217.000000  1.001700e+04  ...                  0.0             0.0\n",
              "mean     7400.386265  3.330574e+06  ...                  NaN             NaN\n",
              "std      4130.081588  8.579101e+05  ...                  NaN             NaN\n",
              "min       312.000000  0.000000e+00  ...                  NaN             NaN\n",
              "25%      3862.000000  3.113909e+06  ...                  NaN             NaN\n",
              "50%      7337.000000  3.300100e+06  ...                  NaN             NaN\n",
              "75%     11068.000000  3.550308e+06  ...                  NaN             NaN\n",
              "max     14414.000000  5.300108e+06  ...                  NaN             NaN\n",
              "\n",
              "[8 rows x 14 columns]"
            ]
          },
          "metadata": {},
          "execution_count": 26
        }
      ]
    },
    {
      "cell_type": "markdown",
      "source": [
        "> **Analisaremos as colunas que possuem dados faltantes**"
      ],
      "metadata": {
        "id": "y4xBOMbtmwHJ"
      }
    },
    {
      "cell_type": "code",
      "source": [
        "train_acidentes_df.isnull().sum().sort_values(ascending=False)"
      ],
      "metadata": {
        "colab": {
          "base_uri": "https://localhost:8080/"
        },
        "id": "XCGEWUfmdzwB",
        "outputId": "784b40ac-1644-455c-eae5-c04a9fce5c1e"
      },
      "execution_count": null,
      "outputs": [
        {
          "output_type": "execute_result",
          "data": {
            "text/plain": [
              "feicao_proxima                12217\n",
              "dia_semana                    12217\n",
              "des_danos                     12217\n",
              "des_informacoes_adicionais    12217\n",
              "acao_inicial_tomada           12217\n",
              "                              ...  \n",
              "dt_carga                          0\n",
              "ocorrencia_oleo                   0\n",
              "nro_ocorrencia                    0\n",
              "id_ocorrencia                     0\n",
              "FID                               0\n",
              "Length: 67, dtype: int64"
            ]
          },
          "metadata": {},
          "execution_count": 4
        }
      ]
    },
    {
      "cell_type": "markdown",
      "source": [
        "As colunas que possuem dados faltantes que poderiam ser excluídas a fim de facilitar a análise do banco são: \n",
        "\n",
        "- dt_carga\n",
        "- ocorrencia_oleo\n",
        "- nro_ocorrencia\n",
        "- FID"
      ],
      "metadata": {
        "id": "t78XKBgzm4ju"
      }
    },
    {
      "cell_type": "markdown",
      "source": [
        "> **Verificação de colunas com os valores nulos**"
      ],
      "metadata": {
        "id": "_C5E43kwnRn9"
      }
    },
    {
      "cell_type": "code",
      "source": [
        "train_acidentes_df.isnull().sum()"
      ],
      "metadata": {
        "colab": {
          "base_uri": "https://localhost:8080/"
        },
        "id": "VsUrCIcIeTK4",
        "outputId": "efab1af0-7fa4-4068-e36a-0a13701cd960"
      },
      "execution_count": null,
      "outputs": [
        {
          "output_type": "execute_result",
          "data": {
            "text/plain": [
              "FID                   0\n",
              "id_ocorrencia         0\n",
              "id_municipio       2200\n",
              "id_uf               543\n",
              "id_responsavel     6591\n",
              "                  ...  \n",
              "produtos_onu       9616\n",
              "produtos_outro     9383\n",
              "geom                  0\n",
              "dt_carga              0\n",
              "feicao_proxima    12217\n",
              "Length: 67, dtype: int64"
            ]
          },
          "metadata": {},
          "execution_count": 5
        }
      ]
    },
    {
      "cell_type": "markdown",
      "source": [
        "As colunas com valores nulos são: \n",
        "- id_municipio\n",
        "- id_uf\n",
        "- id_responsável\n",
        "- produtos_onu\n",
        "- produtos_outro \n",
        "- feicao_proxima"
      ],
      "metadata": {
        "id": "UnOEzSiYegNj"
      }
    },
    {
      "cell_type": "markdown",
      "source": [
        "> **Vamos descobrir a porcentagem dos valores faltantes em cada coluna**"
      ],
      "metadata": {
        "id": "NA8RG3C9fAiU"
      }
    },
    {
      "cell_type": "code",
      "source": [
        "(train_acidentes_df.isnull().sum() / len(train_acidentes_df)) * 100.0"
      ],
      "metadata": {
        "colab": {
          "base_uri": "https://localhost:8080/"
        },
        "id": "ffeRO3rmfJbr",
        "outputId": "4dadc967-0cff-4738-b8dd-f316d15ab311"
      },
      "execution_count": null,
      "outputs": [
        {
          "output_type": "execute_result",
          "data": {
            "text/plain": [
              "FID                            0.000000\n",
              "id_ocorrencia                  0.000000\n",
              "id_municipio                  18.007694\n",
              "id_uf                          4.444626\n",
              "id_responsavel                53.949415\n",
              "                                ...    \n",
              "tipos_danos_identificados      7.211263\n",
              "produtos_outro                76.802816\n",
              "geom                           0.000000\n",
              "dt_carga                       0.000000\n",
              "feicao_proxima               100.000000\n",
              "Length: 66, dtype: float64"
            ]
          },
          "metadata": {},
          "execution_count": 36
        }
      ]
    },
    {
      "cell_type": "markdown",
      "source": [
        "Podemos verificar a partir dessa análise, o banco de dados mostra que 78% da coluna chamada produtos_onu, 76% da coluna chamada produtos_outro e 100% dos dados chamados feicao_proxima não aparecem as informações, vamos dessa forma, descartar essas colunas"
      ],
      "metadata": {
        "id": "4Afhf2sdffY3"
      }
    },
    {
      "cell_type": "markdown",
      "source": [
        "> **Vamos descartar a coluna chamada \"produtos_onu\"**"
      ],
      "metadata": {
        "id": "jrEeC4Lhn4pb"
      }
    },
    {
      "cell_type": "code",
      "source": [
        "train_acidentes_df.drop('produtos_onu', axis='columns', inplace=True)\n",
        "train_acidentes_df.info()"
      ],
      "metadata": {
        "colab": {
          "base_uri": "https://localhost:8080/"
        },
        "id": "vA3fva4Ef834",
        "outputId": "0d5ac6b3-c988-45c6-bcce-37ba63f958f2"
      },
      "execution_count": null,
      "outputs": [
        {
          "output_type": "stream",
          "name": "stdout",
          "text": [
            "<class 'pandas.core.frame.DataFrame'>\n",
            "RangeIndex: 12217 entries, 0 to 12216\n",
            "Data columns (total 66 columns):\n",
            " #   Column                           Non-Null Count  Dtype  \n",
            "---  ------                           --------------  -----  \n",
            " 0   FID                              12217 non-null  object \n",
            " 1   id_ocorrencia                    12217 non-null  int64  \n",
            " 2   id_municipio                     10017 non-null  float64\n",
            " 3   id_uf                            11674 non-null  float64\n",
            " 4   id_responsavel                   5626 non-null   float64\n",
            " 5   des_complemento_tipo_localizaca  3304 non-null   object \n",
            " 6   des_complemento_tipo_evento      3098 non-null   object \n",
            " 7   des_complemento_instituicao_atu  4139 non-null   object \n",
            " 8   des_complemento_tipo_dano_ident  2909 non-null   object \n",
            " 9   des_danos                        0 non-null      float64\n",
            " 10  des_ocorrencia                   5775 non-null   object \n",
            " 11  dt_ocorrencia                    6151 non-null   object \n",
            " 12  hr_ocorrencia                    11703 non-null  object \n",
            " 13  dt_registro                      12217 non-null  object \n",
            " 14  des_informacoes_adicionais       0 non-null      float64\n",
            " 15  plano_emergencia                 5734 non-null   object \n",
            " 16  plano_emergencia_acionado        12217 non-null  object \n",
            " 17  iniciados_outras_providencias    12217 non-null  object \n",
            " 18  des_outras_providencias          4465 non-null   object \n",
            " 19  ocorrencia_oleo                  12217 non-null  object \n",
            " 20  dt_primeira_obs                  6243 non-null   object \n",
            " 21  hr_primeira_obs                  6172 non-null   object \n",
            " 22  informacao_geografica            6861 non-null   object \n",
            " 23  informacao_responsavel           12217 non-null  object \n",
            " 24  acao_inicial_tomada              0 non-null      float64\n",
            " 25  des_causa_provavel               5967 non-null   object \n",
            " 26  situacao_atual_descarga          2255 non-null   object \n",
            " 27  nome_comunicante                 6436 non-null   object \n",
            " 28  telefone_contato                 6442 non-null   object \n",
            " 29  des_obs                          5116 non-null   object \n",
            " 30  email_comunicante                6248 non-null   object \n",
            " 31  nro_ocorrencia                   12217 non-null  int64  \n",
            " 32  endereco_ocorrencia              6002 non-null   object \n",
            " 33  nome_instituicao_atuando         1243 non-null   object \n",
            " 34  telefone_instituicao_atuando     1156 non-null   object \n",
            " 35  tipo_substancia                  1530 non-null   object \n",
            " 36  volume_estimado                  1429 non-null   float64\n",
            " 37  produto_nao_se_aplica            1352 non-null   object \n",
            " 38  produto_perigoso                 1957 non-null   object \n",
            " 39  produto_nao_especificado         1151 non-null   object \n",
            " 40  id_bacia_sedimentar              1863 non-null   float64\n",
            " 41  cpf_contato                      6419 non-null   object \n",
            " 42  ip_contato                       1063 non-null   object \n",
            " 43  legado                           12217 non-null  object \n",
            " 44  des_instituicao_empresa          6053 non-null   object \n",
            " 45  des_funcao_comunicante           5959 non-null   object \n",
            " 46  validado                         12217 non-null  object \n",
            " 47  tipo_comunicado                  5356 non-null   object \n",
            " 48  periodo_ocorrencia               11612 non-null  object \n",
            " 49  periodo_primeira_obs             6046 non-null   object \n",
            " 50  municipio                        9818 non-null   object \n",
            " 51  uf                               11640 non-null  object \n",
            " 52  bacia_sedimentar                 1863 non-null   object \n",
            " 53  origem                           12100 non-null  object \n",
            " 54  tipo_evento                      12093 non-null  object \n",
            " 55  dt_ocorrencia_feriado            6421 non-null   object \n",
            " 56  dia_semana                       0 non-null      float64\n",
            " 57  dia_semana_primeira_obs          0 non-null      float64\n",
            " 58  dia_semana_registro              0 non-null      float64\n",
            " 59  institiuicoes_atuando_local      10742 non-null  object \n",
            " 60  tipos_fontes_informacoes         11964 non-null  object \n",
            " 61  tipos_danos_identificados        11336 non-null  object \n",
            " 62  produtos_outro                   2834 non-null   object \n",
            " 63  geom                             12217 non-null  object \n",
            " 64  dt_carga                         12217 non-null  object \n",
            " 65  feicao_proxima                   0 non-null      float64\n",
            "dtypes: float64(12), int64(2), object(52)\n",
            "memory usage: 6.2+ MB\n"
          ]
        }
      ]
    },
    {
      "cell_type": "markdown",
      "source": [
        ""
      ],
      "metadata": {
        "id": "ebHiug7toKmU"
      }
    },
    {
      "cell_type": "markdown",
      "source": [
        "> **Vamos descartar a coluna chamada \"feicao_proxima\"**"
      ],
      "metadata": {
        "id": "FVgyeEZOoOLi"
      }
    },
    {
      "cell_type": "code",
      "source": [
        "train_acidentes_df.drop('feicao_proxima', axis='columns', inplace=True)\n",
        "train_acidentes_df.info()"
      ],
      "metadata": {
        "colab": {
          "base_uri": "https://localhost:8080/"
        },
        "id": "F_JD_wkbhhI6",
        "outputId": "d3fd9e21-9125-40c6-bcc9-9b0bb6607144"
      },
      "execution_count": null,
      "outputs": [
        {
          "output_type": "stream",
          "name": "stdout",
          "text": [
            "<class 'pandas.core.frame.DataFrame'>\n",
            "RangeIndex: 12217 entries, 0 to 12216\n",
            "Data columns (total 65 columns):\n",
            " #   Column                           Non-Null Count  Dtype  \n",
            "---  ------                           --------------  -----  \n",
            " 0   FID                              12217 non-null  object \n",
            " 1   id_ocorrencia                    12217 non-null  int64  \n",
            " 2   id_municipio                     10017 non-null  float64\n",
            " 3   id_uf                            11674 non-null  float64\n",
            " 4   id_responsavel                   5626 non-null   float64\n",
            " 5   des_complemento_tipo_localizaca  3304 non-null   object \n",
            " 6   des_complemento_tipo_evento      3098 non-null   object \n",
            " 7   des_complemento_instituicao_atu  4139 non-null   object \n",
            " 8   des_complemento_tipo_dano_ident  2909 non-null   object \n",
            " 9   des_danos                        0 non-null      float64\n",
            " 10  des_ocorrencia                   5775 non-null   object \n",
            " 11  dt_ocorrencia                    6151 non-null   object \n",
            " 12  hr_ocorrencia                    11703 non-null  object \n",
            " 13  dt_registro                      12217 non-null  object \n",
            " 14  des_informacoes_adicionais       0 non-null      float64\n",
            " 15  plano_emergencia                 5734 non-null   object \n",
            " 16  plano_emergencia_acionado        12217 non-null  object \n",
            " 17  iniciados_outras_providencias    12217 non-null  object \n",
            " 18  des_outras_providencias          4465 non-null   object \n",
            " 19  ocorrencia_oleo                  12217 non-null  object \n",
            " 20  dt_primeira_obs                  6243 non-null   object \n",
            " 21  hr_primeira_obs                  6172 non-null   object \n",
            " 22  informacao_geografica            6861 non-null   object \n",
            " 23  informacao_responsavel           12217 non-null  object \n",
            " 24  acao_inicial_tomada              0 non-null      float64\n",
            " 25  des_causa_provavel               5967 non-null   object \n",
            " 26  situacao_atual_descarga          2255 non-null   object \n",
            " 27  nome_comunicante                 6436 non-null   object \n",
            " 28  telefone_contato                 6442 non-null   object \n",
            " 29  des_obs                          5116 non-null   object \n",
            " 30  email_comunicante                6248 non-null   object \n",
            " 31  nro_ocorrencia                   12217 non-null  int64  \n",
            " 32  endereco_ocorrencia              6002 non-null   object \n",
            " 33  nome_instituicao_atuando         1243 non-null   object \n",
            " 34  telefone_instituicao_atuando     1156 non-null   object \n",
            " 35  tipo_substancia                  1530 non-null   object \n",
            " 36  volume_estimado                  1429 non-null   float64\n",
            " 37  produto_nao_se_aplica            1352 non-null   object \n",
            " 38  produto_perigoso                 1957 non-null   object \n",
            " 39  produto_nao_especificado         1151 non-null   object \n",
            " 40  id_bacia_sedimentar              1863 non-null   float64\n",
            " 41  cpf_contato                      6419 non-null   object \n",
            " 42  ip_contato                       1063 non-null   object \n",
            " 43  legado                           12217 non-null  object \n",
            " 44  des_instituicao_empresa          6053 non-null   object \n",
            " 45  des_funcao_comunicante           5959 non-null   object \n",
            " 46  validado                         12217 non-null  object \n",
            " 47  tipo_comunicado                  5356 non-null   object \n",
            " 48  periodo_ocorrencia               11612 non-null  object \n",
            " 49  periodo_primeira_obs             6046 non-null   object \n",
            " 50  municipio                        9818 non-null   object \n",
            " 51  uf                               11640 non-null  object \n",
            " 52  bacia_sedimentar                 1863 non-null   object \n",
            " 53  origem                           12100 non-null  object \n",
            " 54  tipo_evento                      12093 non-null  object \n",
            " 55  dt_ocorrencia_feriado            6421 non-null   object \n",
            " 56  dia_semana                       0 non-null      float64\n",
            " 57  dia_semana_primeira_obs          0 non-null      float64\n",
            " 58  dia_semana_registro              0 non-null      float64\n",
            " 59  institiuicoes_atuando_local      10742 non-null  object \n",
            " 60  tipos_fontes_informacoes         11964 non-null  object \n",
            " 61  tipos_danos_identificados        11336 non-null  object \n",
            " 62  produtos_outro                   2834 non-null   object \n",
            " 63  geom                             12217 non-null  object \n",
            " 64  dt_carga                         12217 non-null  object \n",
            "dtypes: float64(11), int64(2), object(52)\n",
            "memory usage: 6.1+ MB\n"
          ]
        }
      ]
    },
    {
      "cell_type": "markdown",
      "source": [
        ">**Vamos descartar a coluna chamada \"produtos_outro\"**"
      ],
      "metadata": {
        "id": "MlthiXKmoZau"
      }
    },
    {
      "cell_type": "code",
      "source": [
        "train_acidentes_df.drop('produtos_outro', axis='columns', inplace=True)\n",
        "train_acidentes_df.info()"
      ],
      "metadata": {
        "colab": {
          "base_uri": "https://localhost:8080/"
        },
        "id": "KKhFtSObh-2q",
        "outputId": "95511268-011a-4993-86c8-1d4d4dfea459"
      },
      "execution_count": null,
      "outputs": [
        {
          "output_type": "stream",
          "name": "stdout",
          "text": [
            "<class 'pandas.core.frame.DataFrame'>\n",
            "RangeIndex: 12217 entries, 0 to 12216\n",
            "Data columns (total 64 columns):\n",
            " #   Column                           Non-Null Count  Dtype  \n",
            "---  ------                           --------------  -----  \n",
            " 0   FID                              12217 non-null  object \n",
            " 1   id_ocorrencia                    12217 non-null  int64  \n",
            " 2   id_municipio                     10017 non-null  float64\n",
            " 3   id_uf                            11674 non-null  float64\n",
            " 4   id_responsavel                   5626 non-null   float64\n",
            " 5   des_complemento_tipo_localizaca  3304 non-null   object \n",
            " 6   des_complemento_tipo_evento      3098 non-null   object \n",
            " 7   des_complemento_instituicao_atu  4139 non-null   object \n",
            " 8   des_complemento_tipo_dano_ident  2909 non-null   object \n",
            " 9   des_danos                        0 non-null      float64\n",
            " 10  des_ocorrencia                   5775 non-null   object \n",
            " 11  dt_ocorrencia                    6151 non-null   object \n",
            " 12  hr_ocorrencia                    11703 non-null  object \n",
            " 13  dt_registro                      12217 non-null  object \n",
            " 14  des_informacoes_adicionais       0 non-null      float64\n",
            " 15  plano_emergencia                 5734 non-null   object \n",
            " 16  plano_emergencia_acionado        12217 non-null  object \n",
            " 17  iniciados_outras_providencias    12217 non-null  object \n",
            " 18  des_outras_providencias          4465 non-null   object \n",
            " 19  ocorrencia_oleo                  12217 non-null  object \n",
            " 20  dt_primeira_obs                  6243 non-null   object \n",
            " 21  hr_primeira_obs                  6172 non-null   object \n",
            " 22  informacao_geografica            6861 non-null   object \n",
            " 23  informacao_responsavel           12217 non-null  object \n",
            " 24  acao_inicial_tomada              0 non-null      float64\n",
            " 25  des_causa_provavel               5967 non-null   object \n",
            " 26  situacao_atual_descarga          2255 non-null   object \n",
            " 27  nome_comunicante                 6436 non-null   object \n",
            " 28  telefone_contato                 6442 non-null   object \n",
            " 29  des_obs                          5116 non-null   object \n",
            " 30  email_comunicante                6248 non-null   object \n",
            " 31  nro_ocorrencia                   12217 non-null  int64  \n",
            " 32  endereco_ocorrencia              6002 non-null   object \n",
            " 33  nome_instituicao_atuando         1243 non-null   object \n",
            " 34  telefone_instituicao_atuando     1156 non-null   object \n",
            " 35  tipo_substancia                  1530 non-null   object \n",
            " 36  volume_estimado                  1429 non-null   float64\n",
            " 37  produto_nao_se_aplica            1352 non-null   object \n",
            " 38  produto_perigoso                 1957 non-null   object \n",
            " 39  produto_nao_especificado         1151 non-null   object \n",
            " 40  id_bacia_sedimentar              1863 non-null   float64\n",
            " 41  cpf_contato                      6419 non-null   object \n",
            " 42  ip_contato                       1063 non-null   object \n",
            " 43  legado                           12217 non-null  object \n",
            " 44  des_instituicao_empresa          6053 non-null   object \n",
            " 45  des_funcao_comunicante           5959 non-null   object \n",
            " 46  validado                         12217 non-null  object \n",
            " 47  tipo_comunicado                  5356 non-null   object \n",
            " 48  periodo_ocorrencia               11612 non-null  object \n",
            " 49  periodo_primeira_obs             6046 non-null   object \n",
            " 50  municipio                        9818 non-null   object \n",
            " 51  uf                               11640 non-null  object \n",
            " 52  bacia_sedimentar                 1863 non-null   object \n",
            " 53  origem                           12100 non-null  object \n",
            " 54  tipo_evento                      12093 non-null  object \n",
            " 55  dt_ocorrencia_feriado            6421 non-null   object \n",
            " 56  dia_semana                       0 non-null      float64\n",
            " 57  dia_semana_primeira_obs          0 non-null      float64\n",
            " 58  dia_semana_registro              0 non-null      float64\n",
            " 59  institiuicoes_atuando_local      10742 non-null  object \n",
            " 60  tipos_fontes_informacoes         11964 non-null  object \n",
            " 61  tipos_danos_identificados        11336 non-null  object \n",
            " 62  geom                             12217 non-null  object \n",
            " 63  dt_carga                         12217 non-null  object \n",
            "dtypes: float64(11), int64(2), object(51)\n",
            "memory usage: 6.0+ MB\n"
          ]
        }
      ]
    },
    {
      "cell_type": "markdown",
      "source": [
        "> **Vamos descartar a coluna chamada \"id_responsavel\"**"
      ],
      "metadata": {
        "id": "7nK0T8rpoiGy"
      }
    },
    {
      "cell_type": "code",
      "source": [
        "train_acidentes_df.drop('id_responsavel', axis='columns', inplace=True)\n",
        "train_acidentes_df.info()"
      ],
      "metadata": {
        "colab": {
          "base_uri": "https://localhost:8080/"
        },
        "id": "tVRS03e4iR0t",
        "outputId": "ff462526-a2c0-49f9-ac86-3b46c0418520"
      },
      "execution_count": null,
      "outputs": [
        {
          "output_type": "stream",
          "name": "stdout",
          "text": [
            "<class 'pandas.core.frame.DataFrame'>\n",
            "RangeIndex: 12217 entries, 0 to 12216\n",
            "Data columns (total 63 columns):\n",
            " #   Column                           Non-Null Count  Dtype  \n",
            "---  ------                           --------------  -----  \n",
            " 0   FID                              12217 non-null  object \n",
            " 1   id_ocorrencia                    12217 non-null  int64  \n",
            " 2   id_municipio                     10017 non-null  float64\n",
            " 3   id_uf                            11674 non-null  float64\n",
            " 4   des_complemento_tipo_localizaca  3304 non-null   object \n",
            " 5   des_complemento_tipo_evento      3098 non-null   object \n",
            " 6   des_complemento_instituicao_atu  4139 non-null   object \n",
            " 7   des_complemento_tipo_dano_ident  2909 non-null   object \n",
            " 8   des_danos                        0 non-null      float64\n",
            " 9   des_ocorrencia                   5775 non-null   object \n",
            " 10  dt_ocorrencia                    6151 non-null   object \n",
            " 11  hr_ocorrencia                    11703 non-null  object \n",
            " 12  dt_registro                      12217 non-null  object \n",
            " 13  des_informacoes_adicionais       0 non-null      float64\n",
            " 14  plano_emergencia                 5734 non-null   object \n",
            " 15  plano_emergencia_acionado        12217 non-null  object \n",
            " 16  iniciados_outras_providencias    12217 non-null  object \n",
            " 17  des_outras_providencias          4465 non-null   object \n",
            " 18  ocorrencia_oleo                  12217 non-null  object \n",
            " 19  dt_primeira_obs                  6243 non-null   object \n",
            " 20  hr_primeira_obs                  6172 non-null   object \n",
            " 21  informacao_geografica            6861 non-null   object \n",
            " 22  informacao_responsavel           12217 non-null  object \n",
            " 23  acao_inicial_tomada              0 non-null      float64\n",
            " 24  des_causa_provavel               5967 non-null   object \n",
            " 25  situacao_atual_descarga          2255 non-null   object \n",
            " 26  nome_comunicante                 6436 non-null   object \n",
            " 27  telefone_contato                 6442 non-null   object \n",
            " 28  des_obs                          5116 non-null   object \n",
            " 29  email_comunicante                6248 non-null   object \n",
            " 30  nro_ocorrencia                   12217 non-null  int64  \n",
            " 31  endereco_ocorrencia              6002 non-null   object \n",
            " 32  nome_instituicao_atuando         1243 non-null   object \n",
            " 33  telefone_instituicao_atuando     1156 non-null   object \n",
            " 34  tipo_substancia                  1530 non-null   object \n",
            " 35  volume_estimado                  1429 non-null   float64\n",
            " 36  produto_nao_se_aplica            1352 non-null   object \n",
            " 37  produto_perigoso                 1957 non-null   object \n",
            " 38  produto_nao_especificado         1151 non-null   object \n",
            " 39  id_bacia_sedimentar              1863 non-null   float64\n",
            " 40  cpf_contato                      6419 non-null   object \n",
            " 41  ip_contato                       1063 non-null   object \n",
            " 42  legado                           12217 non-null  object \n",
            " 43  des_instituicao_empresa          6053 non-null   object \n",
            " 44  des_funcao_comunicante           5959 non-null   object \n",
            " 45  validado                         12217 non-null  object \n",
            " 46  tipo_comunicado                  5356 non-null   object \n",
            " 47  periodo_ocorrencia               11612 non-null  object \n",
            " 48  periodo_primeira_obs             6046 non-null   object \n",
            " 49  municipio                        9818 non-null   object \n",
            " 50  uf                               11640 non-null  object \n",
            " 51  bacia_sedimentar                 1863 non-null   object \n",
            " 52  origem                           12100 non-null  object \n",
            " 53  tipo_evento                      12093 non-null  object \n",
            " 54  dt_ocorrencia_feriado            6421 non-null   object \n",
            " 55  dia_semana                       0 non-null      float64\n",
            " 56  dia_semana_primeira_obs          0 non-null      float64\n",
            " 57  dia_semana_registro              0 non-null      float64\n",
            " 58  institiuicoes_atuando_local      10742 non-null  object \n",
            " 59  tipos_fontes_informacoes         11964 non-null  object \n",
            " 60  tipos_danos_identificados        11336 non-null  object \n",
            " 61  geom                             12217 non-null  object \n",
            " 62  dt_carga                         12217 non-null  object \n",
            "dtypes: float64(10), int64(2), object(51)\n",
            "memory usage: 5.9+ MB\n"
          ]
        }
      ]
    },
    {
      "cell_type": "markdown",
      "source": [
        "> **Descartando poucos dados faltantes das colunas \"id_uf\" e \"tipos_danos_identificados\" \"instituicoes_atuando_local\" \"tipos_fontes_informacoes\"**"
      ],
      "metadata": {
        "id": "pAgxtJutow9k"
      }
    },
    {
      "cell_type": "code",
      "source": [
        "train_acidentes_df.dropna(subset=['tipos_danos_identificados'], inplace=True)\n",
        "(train_acidentes_df.isnull().sum() / len(train_acidentes_df)) * 100"
      ],
      "metadata": {
        "colab": {
          "base_uri": "https://localhost:8080/"
        },
        "id": "uFMvQvmuihka",
        "outputId": "5a703028-9050-45f9-ecc9-9eef2beccf05"
      },
      "execution_count": null,
      "outputs": [
        {
          "output_type": "execute_result",
          "data": {
            "text/plain": [
              "FID                             0.000000\n",
              "id_ocorrencia                   0.000000\n",
              "id_municipio                   18.666196\n",
              "id_uf                           4.384263\n",
              "id_responsavel                 57.136556\n",
              "                                 ...    \n",
              "institiuicoes_atuando_local    10.735709\n",
              "tipos_fontes_informacoes        2.002470\n",
              "tipos_danos_identificados       0.000000\n",
              "geom                            0.000000\n",
              "dt_carga                        0.000000\n",
              "Length: 64, dtype: float64"
            ]
          },
          "metadata": {},
          "execution_count": 9
        }
      ]
    },
    {
      "cell_type": "code",
      "source": [
        "train_acidentes_df.dropna(subset=['tipos_fontes_informacoes'], inplace=True)\n",
        "(train_acidentes_df.isnull().sum() / len(train_acidentes_df)) * 100"
      ],
      "metadata": {
        "colab": {
          "base_uri": "https://localhost:8080/"
        },
        "id": "eoq2gQN-jSVT",
        "outputId": "2977dc04-d0d8-4d28-a9ed-8c9877e5cfcf"
      },
      "execution_count": null,
      "outputs": [
        {
          "output_type": "execute_result",
          "data": {
            "text/plain": [
              "FID                             0.000000\n",
              "id_ocorrencia                   0.000000\n",
              "id_municipio                   18.507516\n",
              "id_uf                           4.185795\n",
              "id_responsavel                 58.052030\n",
              "                                 ...    \n",
              "institiuicoes_atuando_local    10.387974\n",
              "tipos_fontes_informacoes        0.000000\n",
              "tipos_danos_identificados       0.000000\n",
              "geom                            0.000000\n",
              "dt_carga                        0.000000\n",
              "Length: 64, dtype: float64"
            ]
          },
          "metadata": {},
          "execution_count": 10
        }
      ]
    },
    {
      "cell_type": "code",
      "source": [
        "#Agora vamos descartar as colunas \"des_complemento_tipo_localizaca\"\n",
        "\n",
        "train_acidentes_df.drop('des_complemento_tipo_localizaca', axis='columns', inplace=True)\n",
        "train_acidentes_df.info()"
      ],
      "metadata": {
        "colab": {
          "base_uri": "https://localhost:8080/"
        },
        "id": "A8ZI7PWMlnGh",
        "outputId": "44605120-abd6-4bc2-e746-6ea22996a325"
      },
      "execution_count": null,
      "outputs": [
        {
          "output_type": "stream",
          "name": "stdout",
          "text": [
            "<class 'pandas.core.frame.DataFrame'>\n",
            "Int64Index: 11109 entries, 0 to 12216\n",
            "Data columns (total 63 columns):\n",
            " #   Column                           Non-Null Count  Dtype  \n",
            "---  ------                           --------------  -----  \n",
            " 0   FID                              11109 non-null  object \n",
            " 1   id_ocorrencia                    11109 non-null  int64  \n",
            " 2   id_municipio                     9053 non-null   float64\n",
            " 3   id_uf                            10644 non-null  float64\n",
            " 4   id_responsavel                   4660 non-null   float64\n",
            " 5   des_complemento_tipo_evento      2544 non-null   object \n",
            " 6   des_complemento_instituicao_atu  3489 non-null   object \n",
            " 7   des_complemento_tipo_dano_ident  2809 non-null   object \n",
            " 8   des_danos                        0 non-null      float64\n",
            " 9   des_ocorrencia                   5775 non-null   object \n",
            " 10  dt_ocorrencia                    5202 non-null   object \n",
            " 11  hr_ocorrencia                    10758 non-null  object \n",
            " 12  dt_registro                      11109 non-null  object \n",
            " 13  des_informacoes_adicionais       0 non-null      float64\n",
            " 14  plano_emergencia                 4832 non-null   object \n",
            " 15  plano_emergencia_acionado        11109 non-null  object \n",
            " 16  iniciados_outras_providencias    11109 non-null  object \n",
            " 17  des_outras_providencias          3894 non-null   object \n",
            " 18  ocorrencia_oleo                  11109 non-null  object \n",
            " 19  dt_primeira_obs                  5176 non-null   object \n",
            " 20  hr_primeira_obs                  5120 non-null   object \n",
            " 21  informacao_geografica            6648 non-null   object \n",
            " 22  informacao_responsavel           11109 non-null  object \n",
            " 23  acao_inicial_tomada              0 non-null      float64\n",
            " 24  des_causa_provavel               5019 non-null   object \n",
            " 25  situacao_atual_descarga          2072 non-null   object \n",
            " 26  nome_comunicante                 5330 non-null   object \n",
            " 27  telefone_contato                 5334 non-null   object \n",
            " 28  des_obs                          4377 non-null   object \n",
            " 29  email_comunicante                5205 non-null   object \n",
            " 30  nro_ocorrencia                   11109 non-null  int64  \n",
            " 31  endereco_ocorrencia              4958 non-null   object \n",
            " 32  nome_instituicao_atuando         1066 non-null   object \n",
            " 33  telefone_instituicao_atuando     995 non-null    object \n",
            " 34  tipo_substancia                  1418 non-null   object \n",
            " 35  volume_estimado                  1333 non-null   float64\n",
            " 36  produto_nao_se_aplica            1086 non-null   object \n",
            " 37  produto_perigoso                 1692 non-null   object \n",
            " 38  produto_nao_especificado         929 non-null    object \n",
            " 39  id_bacia_sedimentar              1726 non-null   float64\n",
            " 40  cpf_contato                      5330 non-null   object \n",
            " 41  ip_contato                       869 non-null    object \n",
            " 42  legado                           11109 non-null  object \n",
            " 43  des_instituicao_empresa          5074 non-null   object \n",
            " 44  des_funcao_comunicante           4992 non-null   object \n",
            " 45  validado                         11109 non-null  object \n",
            " 46  tipo_comunicado                  4461 non-null   object \n",
            " 47  periodo_ocorrencia               10690 non-null  object \n",
            " 48  periodo_primeira_obs             5053 non-null   object \n",
            " 49  municipio                        8875 non-null   object \n",
            " 50  uf                               10616 non-null  object \n",
            " 51  bacia_sedimentar                 1726 non-null   object \n",
            " 52  origem                           11024 non-null  object \n",
            " 53  tipo_evento                      11034 non-null  object \n",
            " 54  dt_ocorrencia_feriado            5317 non-null   object \n",
            " 55  dia_semana                       0 non-null      float64\n",
            " 56  dia_semana_primeira_obs          0 non-null      float64\n",
            " 57  dia_semana_registro              0 non-null      float64\n",
            " 58  institiuicoes_atuando_local      9955 non-null   object \n",
            " 59  tipos_fontes_informacoes         11109 non-null  object \n",
            " 60  tipos_danos_identificados        11109 non-null  object \n",
            " 61  geom                             11109 non-null  object \n",
            " 62  dt_carga                         11109 non-null  object \n",
            "dtypes: float64(11), int64(2), object(50)\n",
            "memory usage: 5.4+ MB\n"
          ]
        }
      ]
    },
    {
      "cell_type": "markdown",
      "source": [
        "# **Análise Exploratória dos Dados**"
      ],
      "metadata": {
        "id": "59kl5AjFmH0_"
      }
    },
    {
      "cell_type": "code",
      "source": [
        "#ver histograma das variáveis numéricas\n",
        "\n",
        "#Titulo do grafico\n",
        "\n",
        "# Tamanho\n",
        "plt.figure( figsize=(18, 10) )\n",
        "\n",
        "# estilo\n",
        "plt.style.use('seaborn-dark')\n",
        "\n",
        "train_acidentes_df.hist(figsize=(10,8));"
      ],
      "metadata": {
        "colab": {
          "base_uri": "https://localhost:8080/",
          "height": 524
        },
        "id": "HGEd92_mp00C",
        "outputId": "466448a2-bcfb-4899-e876-60cb86382643"
      },
      "execution_count": 2,
      "outputs": [
        {
          "output_type": "display_data",
          "data": {
            "text/plain": [
              "<Figure size 1296x720 with 0 Axes>"
            ]
          },
          "metadata": {}
        },
        {
          "output_type": "display_data",
          "data": {
            "image/png": "[encoded data removed]",
            "text/plain": [
              "<Figure size 720x576 with 16 Axes>"
            ]
          },
          "metadata": {}
        }
      ]
    },
    {
      "cell_type": "code",
      "source": [
        "#Número de acidentes por estado\n",
        "\n",
        "train_acidentes_df.groupby('uf')['uf'].count()"
      ],
      "metadata": {
        "colab": {
          "base_uri": "https://localhost:8080/"
        },
        "id": "WgzK28NruoZw",
        "outputId": "eb601d81-ec38-4c01-f9c0-478b1e01ba35"
      },
      "execution_count": null,
      "outputs": [
        {
          "output_type": "execute_result",
          "data": {
            "text/plain": [
              "uf\n",
              "AC       6\n",
              "AL     111\n",
              "AM     124\n",
              "AP      12\n",
              "BA     417\n",
              "CE     153\n",
              "DF     153\n",
              "ES     385\n",
              "GO     156\n",
              "MA     109\n",
              "MG    2687\n",
              "MS     205\n",
              "MT     124\n",
              "PA      97\n",
              "PB      46\n",
              "PE      87\n",
              "PI      33\n",
              "PR     535\n",
              "RJ    1833\n",
              "RN     112\n",
              "RO      48\n",
              "RR       7\n",
              "RS     448\n",
              "SC     376\n",
              "SE     192\n",
              "SP    2108\n",
              "TO      52\n",
              "Name: uf, dtype: int64"
            ]
          },
          "metadata": {},
          "execution_count": 67
        }
      ]
    },
    {
      "cell_type": "markdown",
      "source": [
        "Os estados onde mais ocorreram acidentes ambientais foram os estados de Minas Gerais e São Paulo."
      ],
      "metadata": {
        "id": "Vre0FuG7wFNB"
      }
    },
    {
      "cell_type": "code",
      "source": [
        "train_acidentes_df[u'origem'].value_counts()"
      ],
      "metadata": {
        "colab": {
          "base_uri": "https://localhost:8080/"
        },
        "id": "aaJAx0HBwnHe",
        "outputId": "6fc77a04-2572-423c-d79c-a594be080acf"
      },
      "execution_count": null,
      "outputs": [
        {
          "output_type": "execute_result",
          "data": {
            "text/plain": [
              "Rodovia                                                    3965\n",
              "Outro(s)                                                   2056\n",
              "Plataforma                                                 1741\n",
              "Ferrovia                                                   1075\n",
              "Indústria                                                   805\n",
              "Embarcação                                                  792\n",
              "Duto                                                        702\n",
              "Terminal/portos/ancoradouros/etc                            270\n",
              "Armazenamento/depósito                                      207\n",
              "Barragem                                                    139\n",
              "Posto de combustível                                        133\n",
              "Embarcação;Terminal/portos/ancoradouros/etc                  66\n",
              "Refinaria                                                    40\n",
              "Embarcação;Plataforma                                        27\n",
              "Embarcação;Outro(s)                                           9\n",
              "Outro(s);Rodovia                                              8\n",
              "Ferrovia;Rodovia                                              8\n",
              "Outro(s);Plataforma                                           7\n",
              "Outro(s);Terminal/portos/ancoradouros/etc                     7\n",
              "Armazenamento/depósito;Outro(s)                               5\n",
              "Indústria;Outro(s)                                            4\n",
              "Duto;Plataforma                                               4\n",
              "Armazenamento/depósito;Terminal/portos/ancoradouros/etc       3\n",
              "Posto de combustível;Rodovia                                  3\n",
              "Rodovia;Terminal/portos/ancoradouros/etc                      2\n",
              "Posto de combustível;Terminal/portos/ancoradouros/etc         2\n",
              "Armazenamento/depósito;Indústria                              2\n",
              "Ferrovia;Outro(s)                                             2\n",
              "Plataforma;Terminal/portos/ancoradouros/etc                   2\n",
              "Indústria;Rodovia                                             2\n",
              "Indústria;Terminal/portos/ancoradouros/etc                    1\n",
              "Duto;Outro(s)                                                 1\n",
              "Barragem;Outro(s)                                             1\n",
              "Duto;Terminal/portos/ancoradouros/etc                         1\n",
              "Barragem;Terminal/portos/ancoradouros/etc                     1\n",
              "Armazenamento/depósito;Barragem                               1\n",
              "Barragem;Indústria                                            1\n",
              "Armazenamento/depósito;Embarcação                             1\n",
              "Armazenamento/depósito;Rodovia                                1\n",
              "Embarcação;Posto de combustível                               1\n",
              "Duto;Rodovia                                                  1\n",
              "Barragem;Rodovia                                              1\n",
              "Name: origem, dtype: int64"
            ]
          },
          "metadata": {},
          "execution_count": 24
        }
      ]
    },
    {
      "cell_type": "markdown",
      "source": [
        "> **Identificando os estados com maior numero de acidentes ambientais do Brasil**"
      ],
      "metadata": {
        "id": "cTeQD2nmPzoX"
      }
    },
    {
      "cell_type": "code",
      "source": [
        "# Identificando os estados com maior número de acidentes de 2000 a 2021\n",
        "\n",
        "# Tamanho\n",
        "plt.figure( figsize=(18, 10) )\n",
        "\n",
        "# estilo\n",
        "plt.style.use('seaborn-dark')\n",
        "\n",
        "x = train_acidentes_df['uf'].value_counts().values\n",
        "y = train_acidentes_df['uf'].value_counts().index\n",
        "plt.title('Estados x Quantidade acidentes ambientais', fontsize=20, fontweight='bold')\n",
        "sns.barplot( x=x, y=y ) \n",
        "plt.xlabel('Quantidade de acidentes', fontsize=20)\n",
        "plt.ylabel('Estados', fontsize=20)\n",
        "\n",
        "plt.annotate(\n",
        "    'Análise sobre Acidentes Ambientais \\n by: @Lerina Mesquita Mastruian',\n",
        "    xy=(1, -0.20), xycoords='axes fraction', ha='right', fontsize=12);\n",
        "\n",
        "plt.show()"
      ],
      "metadata": {
        "colab": {
          "base_uri": "https://localhost:8080/",
          "height": 707
        },
        "id": "Wa3GVO5sJuyq",
        "outputId": "cd097a87-8192-4e0c-fdd8-5f9134dc4668"
      },
      "execution_count": 23,
      "outputs": [
        {
          "output_type": "display_data",
          "data": {
            "image/png": "[encoded data removed]",
            "text/plain": [
              "<Figure size 1296x720 with 1 Axes>"
            ]
          },
          "metadata": {}
        }
      ]
    },
    {
      "cell_type": "markdown",
      "source": [
        "Os estados que mais ocorreram acidentes de 2000 até Out 2021 são respectivamente Minas Gerais, São Paulo e Rio de Janeiro"
      ],
      "metadata": {
        "id": "bqD5VEQoNFdJ"
      }
    },
    {
      "cell_type": "markdown",
      "source": [
        "> **Vamos analisar os locais onde mais ocorreram acidentes ambientais.**"
      ],
      "metadata": {
        "id": "A2wjQebwPc7X"
      }
    },
    {
      "cell_type": "code",
      "source": [
        "# Tamanho\n",
        "plt.figure( figsize=(18, 10) )\n",
        "\n",
        "# estilo\n",
        "plt.style.use('seaborn-dark')\n",
        "\n",
        "fig, ax = plt.subplots()\n",
        "\n",
        "y_pos = np.arange(len(train_acidentes_df['origem'].value_counts()[:10]))\n",
        "values = train_acidentes_df['origem'].value_counts()[:10]\n",
        "local = train_acidentes_df['origem'].unique()[:10]\n",
        "\n",
        "ax.barh(y_pos, values, align='center', color='black')\n",
        "ax.set_yticks(y_pos)\n",
        "ax.set_yticklabels(local)\n",
        "ax.invert_yaxis()\n",
        "ax.set_xlabel('Quantidade de Acidentes')\n",
        "ax.set_title('Local onde ocorreram os acidentes')\n",
        "\n",
        "plt.annotate(\n",
        "    'Análise sobre Acidentes Ambientais \\n by: @Lerina Mesquita Mastruian',\n",
        "    xy=(1, -0.4), xycoords='axes fraction', ha='right', fontsize=12);\n",
        "\n",
        "plt.show()"
      ],
      "metadata": {
        "id": "g3lg1DePNEX8",
        "colab": {
          "base_uri": "https://localhost:8080/",
          "height": 376
        },
        "outputId": "74a8c962-42fe-4d8d-e499-16d16c11e24f"
      },
      "execution_count": 29,
      "outputs": [
        {
          "output_type": "display_data",
          "data": {
            "text/plain": [
              "<Figure size 1296x720 with 0 Axes>"
            ]
          },
          "metadata": {}
        },
        {
          "output_type": "display_data",
          "data": {
            "image/png": "[encoded data removed]",
            "text/plain": [
              "<Figure size 432x288 with 1 Axes>"
            ]
          },
          "metadata": {}
        }
      ]
    },
    {
      "cell_type": "code",
      "source": [
        "# Tamanho\n",
        "plt.figure( figsize=(18, 10) )\n",
        "\n",
        "# estilo\n",
        "plt.style.use('seaborn-dark')\n",
        "\n",
        "fig, ax = plt.subplots()\n",
        "\n",
        "y_pos = np.arange(len(train_acidentes_df['municipio'].value_counts()[:10]))\n",
        "values = train_acidentes_df['municipio'].value_counts()[:10]\n",
        "local = train_acidentes_df['municipio'].unique()[:10]\n",
        "\n",
        "ax.barh(y_pos, values, align='center', color='black')\n",
        "ax.set_yticks(y_pos)\n",
        "ax.set_yticklabels(local)\n",
        "ax.invert_yaxis()\n",
        "ax.set_xlabel('Quantidade de Acidentes', size = 15)\n",
        "ax.set_title('Municipio onde ocorreram os acidentes')\n",
        "\n",
        "plt.annotate(\n",
        "    'Análise sobre Acidentes Ambientais \\n by: @Lerina Mesquita Mastruian',\n",
        "    xy=(1, -0.4), xycoords='axes fraction', ha='right', fontsize=12);"
      ],
      "metadata": {
        "colab": {
          "base_uri": "https://localhost:8080/",
          "height": 376
        },
        "id": "O9FJUz3RQqeH",
        "outputId": "aa887ccf-354c-4025-be79-8b348bcffcb4"
      },
      "execution_count": 28,
      "outputs": [
        {
          "output_type": "display_data",
          "data": {
            "text/plain": [
              "<Figure size 1296x720 with 0 Axes>"
            ]
          },
          "metadata": {}
        },
        {
          "output_type": "display_data",
          "data": {
            "image/png": "[encoded data removed]",
            "text/plain": [
              "<Figure size 432x288 with 1 Axes>"
            ]
          },
          "metadata": {}
        }
      ]
    },
    {
      "cell_type": "code",
      "source": [
        "# Tamanho\n",
        "plt.figure( figsize=(18, 10) )\n",
        "\n",
        "# estilo\n",
        "plt.style.use('seaborn-dark')\n",
        "\n",
        "plt.bar( train_acidentes_df['periodo_ocorrencia'][0:10] )"
      ],
      "metadata": {
        "colab": {
          "base_uri": "https://localhost:8080/",
          "height": 217
        },
        "id": "6cfqUjXOldfq",
        "outputId": "f32bd61c-cb90-4c15-ab3c-19ad17bb3564"
      },
      "execution_count": 16,
      "outputs": [
        {
          "output_type": "error",
          "ename": "TypeError",
          "evalue": "ignored",
          "traceback": [
            "\u001b[0;31m---------------------------------------------------------------------------\u001b[0m",
            "\u001b[0;31mTypeError\u001b[0m                                 Traceback (most recent call last)",
            "\u001b[0;32m<ipython-input-16-ed1bd985b538>\u001b[0m in \u001b[0;36m<module>\u001b[0;34m()\u001b[0m\n\u001b[1;32m      5\u001b[0m \u001b[0mplt\u001b[0m\u001b[0;34m.\u001b[0m\u001b[0mstyle\u001b[0m\u001b[0;34m.\u001b[0m\u001b[0muse\u001b[0m\u001b[0;34m(\u001b[0m\u001b[0;34m'seaborn-dark'\u001b[0m\u001b[0;34m)\u001b[0m\u001b[0;34m\u001b[0m\u001b[0;34m\u001b[0m\u001b[0m\n\u001b[1;32m      6\u001b[0m \u001b[0;34m\u001b[0m\u001b[0m\n\u001b[0;32m----> 7\u001b[0;31m \u001b[0mplt\u001b[0m\u001b[0;34m.\u001b[0m\u001b[0mbar\u001b[0m\u001b[0;34m(\u001b[0m \u001b[0mtrain_acidentes_df\u001b[0m\u001b[0;34m[\u001b[0m\u001b[0;34m'periodo_ocorrencia'\u001b[0m\u001b[0;34m]\u001b[0m\u001b[0;34m[\u001b[0m\u001b[0;36m0\u001b[0m\u001b[0;34m:\u001b[0m\u001b[0;36m10\u001b[0m\u001b[0;34m]\u001b[0m \u001b[0;34m)\u001b[0m\u001b[0;34m\u001b[0m\u001b[0;34m\u001b[0m\u001b[0m\n\u001b[0m",
            "\u001b[0;31mTypeError\u001b[0m: bar() missing 1 required positional argument: 'height'"
          ]
        },
        {
          "output_type": "display_data",
          "data": {
            "text/plain": [
              "<Figure size 1296x720 with 0 Axes>"
            ]
          },
          "metadata": {}
        }
      ]
    }
  ]
}